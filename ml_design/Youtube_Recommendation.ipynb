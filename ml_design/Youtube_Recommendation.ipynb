{
  "nbformat": 4,
  "nbformat_minor": 0,
  "metadata": {
    "colab": {
      "provenance": [],
      "mount_file_id": "14Zme3sVnvileDQvNN_td2QfUA4RqlaCm",
      "authorship_tag": "ABX9TyP/C1zJG4XuS/qNjH+bmX1q",
      "include_colab_link": true
    },
    "kernelspec": {
      "name": "python3",
      "display_name": "Python 3"
    },
    "language_info": {
      "name": "python"
    },
    "widgets": {
      "application/vnd.jupyter.widget-state+json": {
        "49f84956af1d4f78b2f426501bbf8373": {
          "model_module": "@jupyter-widgets/controls",
          "model_name": "HBoxModel",
          "model_module_version": "1.5.0",
          "state": {
            "_dom_classes": [],
            "_model_module": "@jupyter-widgets/controls",
            "_model_module_version": "1.5.0",
            "_model_name": "HBoxModel",
            "_view_count": null,
            "_view_module": "@jupyter-widgets/controls",
            "_view_module_version": "1.5.0",
            "_view_name": "HBoxView",
            "box_style": "",
            "children": [
              "IPY_MODEL_6e72471f8bea4c52b8a8ce5789503781",
              "IPY_MODEL_354f941f1e9e4fa3be611af35a96d41a",
              "IPY_MODEL_19d66e36aa6f4c3c88491c2ffa0819ce"
            ],
            "layout": "IPY_MODEL_0c2975ee34ee4f9b9192c906b73df79a"
          }
        },
        "6e72471f8bea4c52b8a8ce5789503781": {
          "model_module": "@jupyter-widgets/controls",
          "model_name": "HTMLModel",
          "model_module_version": "1.5.0",
          "state": {
            "_dom_classes": [],
            "_model_module": "@jupyter-widgets/controls",
            "_model_module_version": "1.5.0",
            "_model_name": "HTMLModel",
            "_view_count": null,
            "_view_module": "@jupyter-widgets/controls",
            "_view_module_version": "1.5.0",
            "_view_name": "HTMLView",
            "description": "",
            "description_tooltip": null,
            "layout": "IPY_MODEL_7c671dc5cfec4940b95f8c708dcef13a",
            "placeholder": "​",
            "style": "IPY_MODEL_b9cec0e3d05d47b592a9e18c4b48955d",
            "value": " 19%"
          }
        },
        "354f941f1e9e4fa3be611af35a96d41a": {
          "model_module": "@jupyter-widgets/controls",
          "model_name": "FloatProgressModel",
          "model_module_version": "1.5.0",
          "state": {
            "_dom_classes": [],
            "_model_module": "@jupyter-widgets/controls",
            "_model_module_version": "1.5.0",
            "_model_name": "FloatProgressModel",
            "_view_count": null,
            "_view_module": "@jupyter-widgets/controls",
            "_view_module_version": "1.5.0",
            "_view_name": "ProgressView",
            "bar_style": "danger",
            "description": "",
            "description_tooltip": null,
            "layout": "IPY_MODEL_2d97fdc2d13248adaa823c89c8273e1f",
            "max": 100,
            "min": 0,
            "orientation": "horizontal",
            "style": "IPY_MODEL_2c6290f6b3bf4b80ac24ef6a55ec7cec",
            "value": 19
          }
        },
        "19d66e36aa6f4c3c88491c2ffa0819ce": {
          "model_module": "@jupyter-widgets/controls",
          "model_name": "HTMLModel",
          "model_module_version": "1.5.0",
          "state": {
            "_dom_classes": [],
            "_model_module": "@jupyter-widgets/controls",
            "_model_module_version": "1.5.0",
            "_model_name": "HTMLModel",
            "_view_count": null,
            "_view_module": "@jupyter-widgets/controls",
            "_view_module_version": "1.5.0",
            "_view_name": "HTMLView",
            "description": "",
            "description_tooltip": null,
            "layout": "IPY_MODEL_661112273c2b4361a07756eeb52ae431",
            "placeholder": "​",
            "style": "IPY_MODEL_611ded13336e4c858b228a590107f039",
            "value": " 19/100 [01:40&lt;06:35,  4.88s/it]"
          }
        },
        "0c2975ee34ee4f9b9192c906b73df79a": {
          "model_module": "@jupyter-widgets/base",
          "model_name": "LayoutModel",
          "model_module_version": "1.2.0",
          "state": {
            "_model_module": "@jupyter-widgets/base",
            "_model_module_version": "1.2.0",
            "_model_name": "LayoutModel",
            "_view_count": null,
            "_view_module": "@jupyter-widgets/base",
            "_view_module_version": "1.2.0",
            "_view_name": "LayoutView",
            "align_content": null,
            "align_items": null,
            "align_self": null,
            "border": null,
            "bottom": null,
            "display": null,
            "flex": null,
            "flex_flow": null,
            "grid_area": null,
            "grid_auto_columns": null,
            "grid_auto_flow": null,
            "grid_auto_rows": null,
            "grid_column": null,
            "grid_gap": null,
            "grid_row": null,
            "grid_template_areas": null,
            "grid_template_columns": null,
            "grid_template_rows": null,
            "height": null,
            "justify_content": null,
            "justify_items": null,
            "left": null,
            "margin": null,
            "max_height": null,
            "max_width": null,
            "min_height": null,
            "min_width": null,
            "object_fit": null,
            "object_position": null,
            "order": null,
            "overflow": null,
            "overflow_x": null,
            "overflow_y": null,
            "padding": null,
            "right": null,
            "top": null,
            "visibility": null,
            "width": null
          }
        },
        "7c671dc5cfec4940b95f8c708dcef13a": {
          "model_module": "@jupyter-widgets/base",
          "model_name": "LayoutModel",
          "model_module_version": "1.2.0",
          "state": {
            "_model_module": "@jupyter-widgets/base",
            "_model_module_version": "1.2.0",
            "_model_name": "LayoutModel",
            "_view_count": null,
            "_view_module": "@jupyter-widgets/base",
            "_view_module_version": "1.2.0",
            "_view_name": "LayoutView",
            "align_content": null,
            "align_items": null,
            "align_self": null,
            "border": null,
            "bottom": null,
            "display": null,
            "flex": null,
            "flex_flow": null,
            "grid_area": null,
            "grid_auto_columns": null,
            "grid_auto_flow": null,
            "grid_auto_rows": null,
            "grid_column": null,
            "grid_gap": null,
            "grid_row": null,
            "grid_template_areas": null,
            "grid_template_columns": null,
            "grid_template_rows": null,
            "height": null,
            "justify_content": null,
            "justify_items": null,
            "left": null,
            "margin": null,
            "max_height": null,
            "max_width": null,
            "min_height": null,
            "min_width": null,
            "object_fit": null,
            "object_position": null,
            "order": null,
            "overflow": null,
            "overflow_x": null,
            "overflow_y": null,
            "padding": null,
            "right": null,
            "top": null,
            "visibility": null,
            "width": null
          }
        },
        "b9cec0e3d05d47b592a9e18c4b48955d": {
          "model_module": "@jupyter-widgets/controls",
          "model_name": "DescriptionStyleModel",
          "model_module_version": "1.5.0",
          "state": {
            "_model_module": "@jupyter-widgets/controls",
            "_model_module_version": "1.5.0",
            "_model_name": "DescriptionStyleModel",
            "_view_count": null,
            "_view_module": "@jupyter-widgets/base",
            "_view_module_version": "1.2.0",
            "_view_name": "StyleView",
            "description_width": ""
          }
        },
        "2d97fdc2d13248adaa823c89c8273e1f": {
          "model_module": "@jupyter-widgets/base",
          "model_name": "LayoutModel",
          "model_module_version": "1.2.0",
          "state": {
            "_model_module": "@jupyter-widgets/base",
            "_model_module_version": "1.2.0",
            "_model_name": "LayoutModel",
            "_view_count": null,
            "_view_module": "@jupyter-widgets/base",
            "_view_module_version": "1.2.0",
            "_view_name": "LayoutView",
            "align_content": null,
            "align_items": null,
            "align_self": null,
            "border": null,
            "bottom": null,
            "display": null,
            "flex": null,
            "flex_flow": null,
            "grid_area": null,
            "grid_auto_columns": null,
            "grid_auto_flow": null,
            "grid_auto_rows": null,
            "grid_column": null,
            "grid_gap": null,
            "grid_row": null,
            "grid_template_areas": null,
            "grid_template_columns": null,
            "grid_template_rows": null,
            "height": null,
            "justify_content": null,
            "justify_items": null,
            "left": null,
            "margin": null,
            "max_height": null,
            "max_width": null,
            "min_height": null,
            "min_width": null,
            "object_fit": null,
            "object_position": null,
            "order": null,
            "overflow": null,
            "overflow_x": null,
            "overflow_y": null,
            "padding": null,
            "right": null,
            "top": null,
            "visibility": null,
            "width": null
          }
        },
        "2c6290f6b3bf4b80ac24ef6a55ec7cec": {
          "model_module": "@jupyter-widgets/controls",
          "model_name": "ProgressStyleModel",
          "model_module_version": "1.5.0",
          "state": {
            "_model_module": "@jupyter-widgets/controls",
            "_model_module_version": "1.5.0",
            "_model_name": "ProgressStyleModel",
            "_view_count": null,
            "_view_module": "@jupyter-widgets/base",
            "_view_module_version": "1.2.0",
            "_view_name": "StyleView",
            "bar_color": null,
            "description_width": ""
          }
        },
        "661112273c2b4361a07756eeb52ae431": {
          "model_module": "@jupyter-widgets/base",
          "model_name": "LayoutModel",
          "model_module_version": "1.2.0",
          "state": {
            "_model_module": "@jupyter-widgets/base",
            "_model_module_version": "1.2.0",
            "_model_name": "LayoutModel",
            "_view_count": null,
            "_view_module": "@jupyter-widgets/base",
            "_view_module_version": "1.2.0",
            "_view_name": "LayoutView",
            "align_content": null,
            "align_items": null,
            "align_self": null,
            "border": null,
            "bottom": null,
            "display": null,
            "flex": null,
            "flex_flow": null,
            "grid_area": null,
            "grid_auto_columns": null,
            "grid_auto_flow": null,
            "grid_auto_rows": null,
            "grid_column": null,
            "grid_gap": null,
            "grid_row": null,
            "grid_template_areas": null,
            "grid_template_columns": null,
            "grid_template_rows": null,
            "height": null,
            "justify_content": null,
            "justify_items": null,
            "left": null,
            "margin": null,
            "max_height": null,
            "max_width": null,
            "min_height": null,
            "min_width": null,
            "object_fit": null,
            "object_position": null,
            "order": null,
            "overflow": null,
            "overflow_x": null,
            "overflow_y": null,
            "padding": null,
            "right": null,
            "top": null,
            "visibility": null,
            "width": null
          }
        },
        "611ded13336e4c858b228a590107f039": {
          "model_module": "@jupyter-widgets/controls",
          "model_name": "DescriptionStyleModel",
          "model_module_version": "1.5.0",
          "state": {
            "_model_module": "@jupyter-widgets/controls",
            "_model_module_version": "1.5.0",
            "_model_name": "DescriptionStyleModel",
            "_view_count": null,
            "_view_module": "@jupyter-widgets/base",
            "_view_module_version": "1.2.0",
            "_view_name": "StyleView",
            "description_width": ""
          }
        }
      }
    }
  },
  "cells": [
    {
      "cell_type": "markdown",
      "metadata": {
        "id": "view-in-github",
        "colab_type": "text"
      },
      "source": [
        "<a href=\"https://colab.research.google.com/github/u6yuvi/Algorithms/blob/main/ml_design/Youtube_Recommendation.ipynb\" target=\"_parent\"><img src=\"https://colab.research.google.com/assets/colab-badge.svg\" alt=\"Open In Colab\"/></a>"
      ]
    },
    {
      "cell_type": "code",
      "execution_count": 3,
      "metadata": {
        "colab": {
          "base_uri": "https://localhost:8080/"
        },
        "id": "ms62GdAu8kkd",
        "outputId": "4cf0ba41-018c-492d-833e-8eec09adc645"
      },
      "outputs": [
        {
          "output_type": "stream",
          "name": "stdout",
          "text": [
            "Drive already mounted at /content/drive/; to attempt to forcibly remount, call drive.mount(\"/content/drive/\", force_remount=True).\n"
          ]
        }
      ],
      "source": [
        "import os\n",
        "from google.colab import drive\n",
        "drive.mount('/content/drive/')"
      ]
    },
    {
      "cell_type": "code",
      "source": [
        "from pathlib import Path\n",
        "from tqdm import tqdm_notebook\n",
        "from copy import deepcopy"
      ],
      "metadata": {
        "id": "27rs4gSq_enk"
      },
      "execution_count": 74,
      "outputs": []
    },
    {
      "cell_type": "code",
      "source": [
        "DIR_PATH = Path(\"/content/drive/MyDrive/Analytics/models/yt_recom\")"
      ],
      "metadata": {
        "id": "uMLS-Z9g_hA_"
      },
      "execution_count": 6,
      "outputs": []
    },
    {
      "cell_type": "code",
      "source": [],
      "metadata": {
        "id": "yH2_t9Ep_2pf"
      },
      "execution_count": null,
      "outputs": []
    },
    {
      "cell_type": "markdown",
      "source": [
        "# Download Movie Lens Dataset\n",
        "\n",
        "[Link](https://grouplens.org/datasets/movielens/100k/)"
      ],
      "metadata": {
        "id": "EhGpRa3I_3dX"
      }
    },
    {
      "cell_type": "code",
      "source": [
        "!wget https://files.grouplens.org/datasets/movielens/ml-100k.zip"
      ],
      "metadata": {
        "colab": {
          "base_uri": "https://localhost:8080/"
        },
        "id": "QRPFdhJp_r0A",
        "outputId": "e2958ea2-f24a-4110-db8a-ef163e1d7b5c"
      },
      "execution_count": 7,
      "outputs": [
        {
          "output_type": "stream",
          "name": "stdout",
          "text": [
            "--2023-03-06 08:17:17--  https://files.grouplens.org/datasets/movielens/ml-100k.zip\n",
            "Resolving files.grouplens.org (files.grouplens.org)... 128.101.65.152\n",
            "Connecting to files.grouplens.org (files.grouplens.org)|128.101.65.152|:443... connected.\n",
            "HTTP request sent, awaiting response... 200 OK\n",
            "Length: 4924029 (4.7M) [application/zip]\n",
            "Saving to: ‘ml-100k.zip’\n",
            "\n",
            "ml-100k.zip         100%[===================>]   4.70M  16.5MB/s    in 0.3s    \n",
            "\n",
            "2023-03-06 08:17:17 (16.5 MB/s) - ‘ml-100k.zip’ saved [4924029/4924029]\n",
            "\n"
          ]
        }
      ]
    },
    {
      "cell_type": "code",
      "source": [
        "!unzip ml-100k.zip"
      ],
      "metadata": {
        "colab": {
          "base_uri": "https://localhost:8080/"
        },
        "id": "OGw8PJEd_xvg",
        "outputId": "cb264d1d-0ee8-4cf7-9da4-4910ec856978"
      },
      "execution_count": 8,
      "outputs": [
        {
          "output_type": "stream",
          "name": "stdout",
          "text": [
            "Archive:  ml-100k.zip\n",
            "   creating: ml-100k/\n",
            "  inflating: ml-100k/allbut.pl       \n",
            "  inflating: ml-100k/mku.sh          \n",
            "  inflating: ml-100k/README          \n",
            "  inflating: ml-100k/u.data          \n",
            "  inflating: ml-100k/u.genre         \n",
            "  inflating: ml-100k/u.info          \n",
            "  inflating: ml-100k/u.item          \n",
            "  inflating: ml-100k/u.occupation    \n",
            "  inflating: ml-100k/u.user          \n",
            "  inflating: ml-100k/u1.base         \n",
            "  inflating: ml-100k/u1.test         \n",
            "  inflating: ml-100k/u2.base         \n",
            "  inflating: ml-100k/u2.test         \n",
            "  inflating: ml-100k/u3.base         \n",
            "  inflating: ml-100k/u3.test         \n",
            "  inflating: ml-100k/u4.base         \n",
            "  inflating: ml-100k/u4.test         \n",
            "  inflating: ml-100k/u5.base         \n",
            "  inflating: ml-100k/u5.test         \n",
            "  inflating: ml-100k/ua.base         \n",
            "  inflating: ml-100k/ua.test         \n",
            "  inflating: ml-100k/ub.base         \n",
            "  inflating: ml-100k/ub.test         \n"
          ]
        }
      ]
    },
    {
      "cell_type": "code",
      "source": [
        "import pandas as pd\n",
        "import numpy as np\n",
        "import torch\n",
        "\n",
        "import torch.nn as nn\n",
        "import torch.nn.functional as F\n",
        "from torch.utils.data import Dataset, DataLoader"
      ],
      "metadata": {
        "id": "ysbxegy4_2Dt"
      },
      "execution_count": 11,
      "outputs": []
    },
    {
      "cell_type": "code",
      "source": [
        "device = torch.device(\"cuda\" if torch.cuda.is_available() else \"cpu\")"
      ],
      "metadata": {
        "id": "Lrnp4BhxO_zw"
      },
      "execution_count": 30,
      "outputs": []
    },
    {
      "cell_type": "code",
      "source": [
        "!ls"
      ],
      "metadata": {
        "colab": {
          "base_uri": "https://localhost:8080/"
        },
        "id": "H39YXbCBA80H",
        "outputId": "41e521de-6515-447e-8041-edcebdaa8bcf"
      },
      "execution_count": 15,
      "outputs": [
        {
          "output_type": "stream",
          "name": "stdout",
          "text": [
            "drive  ml-100k\tml-100k.zip  sample_data\n"
          ]
        }
      ]
    },
    {
      "cell_type": "code",
      "source": [
        "data_path = \"ml-100k/\"\n",
        "id_val = 1\n",
        "num_users = 943 \n",
        "num_items = 1682 \n",
        "train_dataframe = pd.read_csv(f'{data_path}u{id_val}.base',sep='\\t',header=None)\n",
        "train_dataframe.columns = ['user_id','item_id','rating','ts']\n",
        "train_dataframe['user_id'] = train_dataframe['user_id'] -1 \n",
        "train_dataframe['item_id'] = train_dataframe['item_id'] -1\n",
        "valid_df = pd.read_csv(f'{data_path}u{id_val}.test',sep='\\t',header=None)\n",
        "valid_df.columns = ['user_id','item_id','rating','ts']\n",
        "valid_df['user_id'] = valid_df['user_id'] -1 \n",
        "valid_df['item_id'] = valid_df['item_id'] -1\n",
        "train_dataframe.shape, valid_df.shape"
      ],
      "metadata": {
        "colab": {
          "base_uri": "https://localhost:8080/"
        },
        "id": "vdSj7E4oA7T7",
        "outputId": "aed21c95-db5f-4b09-ef42-ca332a2ca507"
      },
      "execution_count": 16,
      "outputs": [
        {
          "output_type": "execute_result",
          "data": {
            "text/plain": [
              "((80000, 4), (20000, 4))"
            ]
          },
          "metadata": {},
          "execution_count": 16
        }
      ]
    },
    {
      "cell_type": "code",
      "source": [
        "train_dataframe.head()"
      ],
      "metadata": {
        "colab": {
          "base_uri": "https://localhost:8080/",
          "height": 206
        },
        "id": "yp437GABBb6T",
        "outputId": "f8d464d0-3660-4aa5-e3ae-e7a22e18a656"
      },
      "execution_count": 20,
      "outputs": [
        {
          "output_type": "execute_result",
          "data": {
            "text/plain": [
              "   user_id  item_id  rating         ts\n",
              "0        0        0       5  874965758\n",
              "1        0        1       3  876893171\n",
              "2        0        2       4  878542960\n",
              "3        0        3       3  876893119\n",
              "4        0        4       3  889751712"
            ],
            "text/html": [
              "\n",
              "  <div id=\"df-bc86a9d0-30d4-4fd6-af8b-5edccef225be\">\n",
              "    <div class=\"colab-df-container\">\n",
              "      <div>\n",
              "<style scoped>\n",
              "    .dataframe tbody tr th:only-of-type {\n",
              "        vertical-align: middle;\n",
              "    }\n",
              "\n",
              "    .dataframe tbody tr th {\n",
              "        vertical-align: top;\n",
              "    }\n",
              "\n",
              "    .dataframe thead th {\n",
              "        text-align: right;\n",
              "    }\n",
              "</style>\n",
              "<table border=\"1\" class=\"dataframe\">\n",
              "  <thead>\n",
              "    <tr style=\"text-align: right;\">\n",
              "      <th></th>\n",
              "      <th>user_id</th>\n",
              "      <th>item_id</th>\n",
              "      <th>rating</th>\n",
              "      <th>ts</th>\n",
              "    </tr>\n",
              "  </thead>\n",
              "  <tbody>\n",
              "    <tr>\n",
              "      <th>0</th>\n",
              "      <td>0</td>\n",
              "      <td>0</td>\n",
              "      <td>5</td>\n",
              "      <td>874965758</td>\n",
              "    </tr>\n",
              "    <tr>\n",
              "      <th>1</th>\n",
              "      <td>0</td>\n",
              "      <td>1</td>\n",
              "      <td>3</td>\n",
              "      <td>876893171</td>\n",
              "    </tr>\n",
              "    <tr>\n",
              "      <th>2</th>\n",
              "      <td>0</td>\n",
              "      <td>2</td>\n",
              "      <td>4</td>\n",
              "      <td>878542960</td>\n",
              "    </tr>\n",
              "    <tr>\n",
              "      <th>3</th>\n",
              "      <td>0</td>\n",
              "      <td>3</td>\n",
              "      <td>3</td>\n",
              "      <td>876893119</td>\n",
              "    </tr>\n",
              "    <tr>\n",
              "      <th>4</th>\n",
              "      <td>0</td>\n",
              "      <td>4</td>\n",
              "      <td>3</td>\n",
              "      <td>889751712</td>\n",
              "    </tr>\n",
              "  </tbody>\n",
              "</table>\n",
              "</div>\n",
              "      <button class=\"colab-df-convert\" onclick=\"convertToInteractive('df-bc86a9d0-30d4-4fd6-af8b-5edccef225be')\"\n",
              "              title=\"Convert this dataframe to an interactive table.\"\n",
              "              style=\"display:none;\">\n",
              "        \n",
              "  <svg xmlns=\"http://www.w3.org/2000/svg\" height=\"24px\"viewBox=\"0 0 24 24\"\n",
              "       width=\"24px\">\n",
              "    <path d=\"M0 0h24v24H0V0z\" fill=\"none\"/>\n",
              "    <path d=\"M18.56 5.44l.94 2.06.94-2.06 2.06-.94-2.06-.94-.94-2.06-.94 2.06-2.06.94zm-11 1L8.5 8.5l.94-2.06 2.06-.94-2.06-.94L8.5 2.5l-.94 2.06-2.06.94zm10 10l.94 2.06.94-2.06 2.06-.94-2.06-.94-.94-2.06-.94 2.06-2.06.94z\"/><path d=\"M17.41 7.96l-1.37-1.37c-.4-.4-.92-.59-1.43-.59-.52 0-1.04.2-1.43.59L10.3 9.45l-7.72 7.72c-.78.78-.78 2.05 0 2.83L4 21.41c.39.39.9.59 1.41.59.51 0 1.02-.2 1.41-.59l7.78-7.78 2.81-2.81c.8-.78.8-2.07 0-2.86zM5.41 20L4 18.59l7.72-7.72 1.47 1.35L5.41 20z\"/>\n",
              "  </svg>\n",
              "      </button>\n",
              "      \n",
              "  <style>\n",
              "    .colab-df-container {\n",
              "      display:flex;\n",
              "      flex-wrap:wrap;\n",
              "      gap: 12px;\n",
              "    }\n",
              "\n",
              "    .colab-df-convert {\n",
              "      background-color: #E8F0FE;\n",
              "      border: none;\n",
              "      border-radius: 50%;\n",
              "      cursor: pointer;\n",
              "      display: none;\n",
              "      fill: #1967D2;\n",
              "      height: 32px;\n",
              "      padding: 0 0 0 0;\n",
              "      width: 32px;\n",
              "    }\n",
              "\n",
              "    .colab-df-convert:hover {\n",
              "      background-color: #E2EBFA;\n",
              "      box-shadow: 0px 1px 2px rgba(60, 64, 67, 0.3), 0px 1px 3px 1px rgba(60, 64, 67, 0.15);\n",
              "      fill: #174EA6;\n",
              "    }\n",
              "\n",
              "    [theme=dark] .colab-df-convert {\n",
              "      background-color: #3B4455;\n",
              "      fill: #D2E3FC;\n",
              "    }\n",
              "\n",
              "    [theme=dark] .colab-df-convert:hover {\n",
              "      background-color: #434B5C;\n",
              "      box-shadow: 0px 1px 3px 1px rgba(0, 0, 0, 0.15);\n",
              "      filter: drop-shadow(0px 1px 2px rgba(0, 0, 0, 0.3));\n",
              "      fill: #FFFFFF;\n",
              "    }\n",
              "  </style>\n",
              "\n",
              "      <script>\n",
              "        const buttonEl =\n",
              "          document.querySelector('#df-bc86a9d0-30d4-4fd6-af8b-5edccef225be button.colab-df-convert');\n",
              "        buttonEl.style.display =\n",
              "          google.colab.kernel.accessAllowed ? 'block' : 'none';\n",
              "\n",
              "        async function convertToInteractive(key) {\n",
              "          const element = document.querySelector('#df-bc86a9d0-30d4-4fd6-af8b-5edccef225be');\n",
              "          const dataTable =\n",
              "            await google.colab.kernel.invokeFunction('convertToInteractive',\n",
              "                                                     [key], {});\n",
              "          if (!dataTable) return;\n",
              "\n",
              "          const docLinkHtml = 'Like what you see? Visit the ' +\n",
              "            '<a target=\"_blank\" href=https://colab.research.google.com/notebooks/data_table.ipynb>data table notebook</a>'\n",
              "            + ' to learn more about interactive tables.';\n",
              "          element.innerHTML = '';\n",
              "          dataTable['output_type'] = 'display_data';\n",
              "          await google.colab.output.renderOutput(dataTable, element);\n",
              "          const docLink = document.createElement('div');\n",
              "          docLink.innerHTML = docLinkHtml;\n",
              "          element.appendChild(docLink);\n",
              "        }\n",
              "      </script>\n",
              "    </div>\n",
              "  </div>\n",
              "  "
            ]
          },
          "metadata": {},
          "execution_count": 20
        }
      ]
    },
    {
      "cell_type": "code",
      "source": [
        "train_dataframe[train_dataframe.user_id==0].item_id.nunique()"
      ],
      "metadata": {
        "colab": {
          "base_uri": "https://localhost:8080/"
        },
        "id": "6bbytMxvBn0w",
        "outputId": "a7d0eef3-89a7-4e34-94d1-3f625a2a384d"
      },
      "execution_count": 23,
      "outputs": [
        {
          "output_type": "execute_result",
          "data": {
            "text/plain": [
              "135"
            ]
          },
          "metadata": {},
          "execution_count": 23
        }
      ]
    },
    {
      "cell_type": "code",
      "source": [
        "train_dataframe.groupby(\"user_id\")[\"item_id\"].agg(len).describe()"
      ],
      "metadata": {
        "colab": {
          "base_uri": "https://localhost:8080/"
        },
        "id": "JyqTP-OwB6CX",
        "outputId": "09c7f82b-8fc7-49b2-9e46-39a821cfa9b1"
      },
      "execution_count": 29,
      "outputs": [
        {
          "output_type": "execute_result",
          "data": {
            "text/plain": [
              "count    943.000000\n",
              "mean      84.835631\n",
              "std       83.806416\n",
              "min        4.000000\n",
              "25%       27.000000\n",
              "50%       50.000000\n",
              "75%      115.000000\n",
              "max      685.000000\n",
              "Name: item_id, dtype: float64"
            ]
          },
          "metadata": {},
          "execution_count": 29
        }
      ]
    },
    {
      "cell_type": "code",
      "source": [
        "train_usrs = train_dataframe.user_id.unique()\n",
        "vald_usrs = valid_df.user_id.unique()\n",
        "len(train_usrs),len(vald_usrs)\n"
      ],
      "metadata": {
        "colab": {
          "base_uri": "https://localhost:8080/"
        },
        "id": "KH3RyJ21BUWR",
        "outputId": "90ff7baf-04ae-4fca-db0a-08786f26c270"
      },
      "execution_count": 17,
      "outputs": [
        {
          "output_type": "execute_result",
          "data": {
            "text/plain": [
              "(943, 459)"
            ]
          },
          "metadata": {},
          "execution_count": 17
        }
      ]
    },
    {
      "cell_type": "code",
      "source": [
        "train_itms = train_dataframe.item_id.unique()\n",
        "vald_itms = valid_df.item_id.unique()\n",
        "len(train_itms),len(vald_itms)"
      ],
      "metadata": {
        "colab": {
          "base_uri": "https://localhost:8080/"
        },
        "id": "FBwTtGbVBaRj",
        "outputId": "33a54254-b25d-4e48-c1b9-23d7201e6670"
      },
      "execution_count": 18,
      "outputs": [
        {
          "output_type": "execute_result",
          "data": {
            "text/plain": [
              "(1650, 1410)"
            ]
          },
          "metadata": {},
          "execution_count": 18
        }
      ]
    },
    {
      "cell_type": "code",
      "source": [
        "class MovieDataset:\n",
        "  def __init__(self, df, user_col = 0, item_col =1, rating_col = 2 ):\n",
        "    self.df = df\n",
        "    self.user_tensor = torch.tensor(df.iloc[:,user_col],dtype=torch.long, device=device)\n",
        "    self.item_tensor = torch.tensor(df.iloc[:,item_col],dtype = torch.long,device = device)\n",
        "    self.rating_tensor = torch.tensor(df.iloc[:,rating_col],dtype=torch.long,device = device)\n",
        "\n",
        "  def __getitem__(self,index):\n",
        "    return self.user_tensor[index],self.item_tensor[index],self.rating_tensor[index]\n",
        "\n",
        "  def __len__(self):\n",
        "    return (self.user_tensor.shape[0])\n",
        "\n",
        "batch_size = 2000\n",
        "train_dataset = MovieDataset(train_dataframe)\n",
        "train_dataloader = DataLoader(train_dataset, batch_size=batch_size, shuffle=True, num_workers=4)\n",
        "valid_dataset = MovieDataset(valid_df)\n",
        "valid_dataloader = DataLoader(valid_dataset, batch_size=batch_size, shuffle=True, num_workers=4)"
      ],
      "metadata": {
        "id": "vFKeNDvzCO-d"
      },
      "execution_count": 34,
      "outputs": []
    },
    {
      "cell_type": "code",
      "source": [
        "next(iter(train_dataloader))"
      ],
      "metadata": {
        "colab": {
          "base_uri": "https://localhost:8080/"
        },
        "id": "QbbNChPhPyMd",
        "outputId": "3fcb193e-bc8b-449d-9a70-3671b8e57ebe"
      },
      "execution_count": 33,
      "outputs": [
        {
          "output_type": "stream",
          "name": "stderr",
          "text": [
            "/usr/local/lib/python3.8/dist-packages/torch/utils/data/dataloader.py:554: UserWarning: This DataLoader will create 4 worker processes in total. Our suggested max number of worker in current system is 2, which is smaller than what this DataLoader is going to create. Please be aware that excessive worker creation might get DataLoader running slow or even freeze, lower the worker number to avoid potential slowness/freeze if necessary.\n",
            "  warnings.warn(_create_warning_msg(\n"
          ]
        },
        {
          "output_type": "execute_result",
          "data": {
            "text/plain": [
              "[tensor([749, 405, 268,  ..., 486, 901, 711]),\n",
              " tensor([329, 152, 121,  ...,  93, 171,  68]),\n",
              " tensor([2, 3, 1,  ..., 3, 4, 3])]"
            ]
          },
          "metadata": {},
          "execution_count": 33
        }
      ]
    },
    {
      "cell_type": "code",
      "source": [
        "class Recommender(nn.Module):\n",
        "  def __init__(self,config):\n",
        "    super(Recommender,self).__init__()\n",
        "\n",
        "    self.config = config\n",
        "    self.num_users = config['num_users']\n",
        "    self.num_items = config['num_items']\n",
        "    self.emb_size = config['emb_size']\n",
        "    self.emb_droupout = config['emb_droupout']\n",
        "    self.fc_layer_sizes = config['fc_layer_sizes']\n",
        "    self.dropout = config['dropout']\n",
        "    self.out_range = config['out_range']\n",
        "\n",
        "    self.embed_user = nn.Sequential(nn.Embedding(num_embeddings=self.num_users,embedding_dim=self.emb_size),\\\n",
        "                                    nn.Dropout(p = self.emb_droupout))\n",
        "    self.embed_item = nn.Sequential(nn.Embedding(num_embeddings=self.num_items,embedding_dim=self.emb_size),\\\n",
        "                                    nn.Dropout(p = self.emb_droupout))\n",
        "\n",
        "    #fully connected layer\n",
        "\n",
        "    fc_layers_list = []\n",
        "    for fc_i , fc_o , fc_drop in zip(self.fc_layer_sizes[:-1],self.fc_layer_sizes[1:],self.dropout):\n",
        "      fc_layers_list.append(nn.Linear(fc_i,fc_o))\n",
        "      fc_layers_list.append(nn.ReLU(inplace=True))\n",
        "      fc_layers_list.append(nn.BatchNorm1d(fc_o))\n",
        "      fc_layers_list.append(nn.Dropout(fc_drop))\n",
        "\n",
        "    self.fc_layers = nn.Sequential(*fc_layers_list)\n",
        "\n",
        "    #output_head\n",
        "\n",
        "    self.output = nn.Linear(self.fc_layer_sizes[-1],1)\n",
        "\n",
        "  def forward(self,user_idx,item_idx):\n",
        "    user_embed = self.embed_user(user_idx)\n",
        "    item_embed = self.embed_item(item_idx)\n",
        "    user_item = torch.concat([user_embed,item_embed],axis=1)\n",
        "    fc1 = self.fc_layers(user_item)\n",
        "    fc_out = torch.sigmoid(self.output(fc1))\n",
        "    fc_out = fc_out * (self.out_range[1] - self.out_range[0]) + self.out_range[0]\n",
        "    return fc_out\n",
        "\n",
        "config = {\n",
        "    'num_users':943, \n",
        "    'num_items':1682, \n",
        "    'emb_size':50, \n",
        "    'emb_droupout': 0.05, \n",
        "    'fc_layer_sizes': [100, 512, 256], \n",
        "    'dropout': [0.7,0.35], \n",
        "    'out_range': [0.8,5.2]} \n",
        "model = Recommender(config)\n",
        "model\n",
        "\n",
        "      \n",
        "      \n",
        "    \n",
        "      "
      ],
      "metadata": {
        "colab": {
          "base_uri": "https://localhost:8080/"
        },
        "id": "Wj1PRaouCPBF",
        "outputId": "9d3d98cd-fc77-4157-a67a-799558ee4222"
      },
      "execution_count": 45,
      "outputs": [
        {
          "output_type": "execute_result",
          "data": {
            "text/plain": [
              "Recommender(\n",
              "  (embed_user): Sequential(\n",
              "    (0): Embedding(943, 50)\n",
              "    (1): Dropout(p=0.05, inplace=False)\n",
              "  )\n",
              "  (embed_item): Sequential(\n",
              "    (0): Embedding(1682, 50)\n",
              "    (1): Dropout(p=0.05, inplace=False)\n",
              "  )\n",
              "  (fc_layers): Sequential(\n",
              "    (0): Linear(in_features=100, out_features=512, bias=True)\n",
              "    (1): ReLU(inplace=True)\n",
              "    (2): BatchNorm1d(512, eps=1e-05, momentum=0.1, affine=True, track_running_stats=True)\n",
              "    (3): Dropout(p=0.7, inplace=False)\n",
              "    (4): Linear(in_features=512, out_features=256, bias=True)\n",
              "    (5): ReLU(inplace=True)\n",
              "    (6): BatchNorm1d(256, eps=1e-05, momentum=0.1, affine=True, track_running_stats=True)\n",
              "    (7): Dropout(p=0.35, inplace=False)\n",
              "  )\n",
              "  (output): Linear(in_features=256, out_features=1, bias=True)\n",
              ")"
            ]
          },
          "metadata": {},
          "execution_count": 45
        }
      ]
    },
    {
      "cell_type": "code",
      "source": [
        "batch_size = 2000 \n",
        "learning_rate = 1e-2 \n",
        "weight_decay = 5e-1 \n",
        "num_epoch = 100 \n",
        "reduce_learning_rate = 1 \n",
        "early_stoping = 5 \n",
        " \n",
        " \n",
        "learning_rates = []\n",
        "train_losses=[]\n",
        "valid_losses = []\n",
        "best_loss = np.inf\n",
        "best_weights = None\n",
        " \n",
        "train_dataset = MovieDataset(train_dataframe)\n",
        "train_dataloader = DataLoader(train_dataset, batch_size=batch_size, shuffle=True, num_workers=4)\n",
        "valid_dataset = MovieDataset(valid_df)\n",
        "valid_dataloader = DataLoader(valid_dataset, batch_size=batch_size, shuffle=True, num_workers=4)\n",
        " \n",
        " \n",
        "model = Recommender(config)\n",
        "criterion = nn.MSELoss(reduction='sum')\n",
        "optim = torch.optim.Adam(model.parameters(),lr = learning_rate, betas=(0.9,0.999), weight_decay=weight_decay)\n",
        "scheduler = torch.optim.lr_scheduler.ReduceLROnPlateau(optim, mode='min',factor=0.5, threshold=1e-3,\n",
        "                                                       patience=reduce_learning_rate, min_lr=learning_rate/10)"
      ],
      "metadata": {
        "id": "lvSWwRyGVaTw"
      },
      "execution_count": 46,
      "outputs": []
    },
    {
      "cell_type": "code",
      "source": [
        "for e in tqdm_notebook(range(num_epoch)): \n",
        "    model.train()\n",
        "    train_loss = 0\n",
        "    for u,i,r in train_dataloader:\n",
        "        r_pred = model(u,i)\n",
        "        r = r[:,None]\n",
        "        \n",
        "        loss = criterion(r_pred,r.float())\n",
        "        \n",
        "        optim.zero_grad()\n",
        "        loss.backward()\n",
        "        optim.step()\n",
        "        train_loss+= loss.detach().item()\n",
        "    current_learning_rate = scheduler.optimizer.param_groups[0][\"lr\"]\n",
        "    learning_rates.append(current_learning_rate)\n",
        "    train_loss /= len(train_dataset)\n",
        "    train_losses.append(train_loss)\n",
        "    \n",
        "    model.eval()\n",
        "    valid_loss = 0\n",
        "    for u,i,r in valid_dataloader:\n",
        "        r_pred = model(u,i)\n",
        "        r = r[:,None]\n",
        "        loss = criterion(r_pred,r)\n",
        "        valid_loss+=loss.detach().item()\n",
        "    valid_loss/=len(valid_dataset)\n",
        "    #record\n",
        "    valid_losses.append(valid_loss)\n",
        "    print(f'Epoch {e} Train loss: {train_loss}; Valid loss: {valid_loss}; Learning rate: {current_learning_rate}')\n",
        " \n",
        "    if valid_loss < best_loss:\n",
        "        best_loss = valid_loss\n",
        "        best_weights = deepcopy(model.state_dict())\n",
        "        no_improvements = 0\n",
        "    else:\n",
        "        no_improvements += 1\n",
        " \n",
        "    if no_improvements >= early_stoping:\n",
        "        print(f'early stopping after epoch {e}')\n",
        "        break\n",
        "    \n",
        "    scheduler.step(valid_loss)"
      ],
      "metadata": {
        "colab": {
          "base_uri": "https://localhost:8080/",
          "height": 533,
          "referenced_widgets": [
            "49f84956af1d4f78b2f426501bbf8373",
            "6e72471f8bea4c52b8a8ce5789503781",
            "354f941f1e9e4fa3be611af35a96d41a",
            "19d66e36aa6f4c3c88491c2ffa0819ce",
            "0c2975ee34ee4f9b9192c906b73df79a",
            "7c671dc5cfec4940b95f8c708dcef13a",
            "b9cec0e3d05d47b592a9e18c4b48955d",
            "2d97fdc2d13248adaa823c89c8273e1f",
            "2c6290f6b3bf4b80ac24ef6a55ec7cec",
            "661112273c2b4361a07756eeb52ae431",
            "611ded13336e4c858b228a590107f039"
          ]
        },
        "id": "dkY96rf9WZJf",
        "outputId": "f5c13f8a-86a4-49ee-9e33-0cbd02f02131"
      },
      "execution_count": 75,
      "outputs": [
        {
          "output_type": "stream",
          "name": "stderr",
          "text": [
            "<ipython-input-75-db2937637616>:1: TqdmDeprecationWarning: This function will be removed in tqdm==5.0.0\n",
            "Please use `tqdm.notebook.tqdm` instead of `tqdm.tqdm_notebook`\n",
            "  for e in tqdm_notebook(range(num_epoch)):\n"
          ]
        },
        {
          "output_type": "display_data",
          "data": {
            "text/plain": [
              "  0%|          | 0/100 [00:00<?, ?it/s]"
            ],
            "application/vnd.jupyter.widget-view+json": {
              "version_major": 2,
              "version_minor": 0,
              "model_id": "49f84956af1d4f78b2f426501bbf8373"
            }
          },
          "metadata": {}
        },
        {
          "output_type": "stream",
          "name": "stderr",
          "text": [
            "/usr/local/lib/python3.8/dist-packages/torch/utils/data/dataloader.py:554: UserWarning: This DataLoader will create 4 worker processes in total. Our suggested max number of worker in current system is 2, which is smaller than what this DataLoader is going to create. Please be aware that excessive worker creation might get DataLoader running slow or even freeze, lower the worker number to avoid potential slowness/freeze if necessary.\n",
            "  warnings.warn(_create_warning_msg(\n"
          ]
        },
        {
          "output_type": "stream",
          "name": "stdout",
          "text": [
            "Epoch 0 Train loss: 0.9220582336425781; Valid loss: 0.9469948852539063; Learning rate: 0.01\n",
            "Epoch 1 Train loss: 0.8997816009521484; Valid loss: 0.937365380859375; Learning rate: 0.01\n",
            "Epoch 2 Train loss: 0.881340493774414; Valid loss: 0.92452275390625; Learning rate: 0.01\n",
            "Epoch 3 Train loss: 0.8712973022460937; Valid loss: 0.91058994140625; Learning rate: 0.01\n",
            "Epoch 4 Train loss: 0.864230290222168; Valid loss: 0.9138363037109375; Learning rate: 0.01\n",
            "Epoch 5 Train loss: 0.8562354858398438; Valid loss: 0.9040654968261719; Learning rate: 0.01\n",
            "Epoch 6 Train loss: 0.8489992340087891; Valid loss: 0.8931829772949219; Learning rate: 0.01\n",
            "Epoch 7 Train loss: 0.8379742630004883; Valid loss: 0.8942795837402344; Learning rate: 0.01\n",
            "Epoch 8 Train loss: 0.8265553985595703; Valid loss: 0.8777992797851563; Learning rate: 0.01\n",
            "Epoch 9 Train loss: 0.8217594802856445; Valid loss: 0.8767254455566407; Learning rate: 0.01\n",
            "Epoch 10 Train loss: 0.8123458801269531; Valid loss: 0.8722957946777343; Learning rate: 0.01\n",
            "Epoch 11 Train loss: 0.8100454391479492; Valid loss: 0.8742552368164063; Learning rate: 0.01\n",
            "Epoch 12 Train loss: 0.8075322738647461; Valid loss: 0.8778339538574219; Learning rate: 0.01\n",
            "Epoch 13 Train loss: 0.775662890625; Valid loss: 0.8610099975585938; Learning rate: 0.005\n",
            "Epoch 14 Train loss: 0.763236994934082; Valid loss: 0.8586142333984375; Learning rate: 0.005\n",
            "Epoch 15 Train loss: 0.7556370422363281; Valid loss: 0.8648405517578125; Learning rate: 0.005\n",
            "Epoch 16 Train loss: 0.7523397079467773; Valid loss: 0.8650801391601562; Learning rate: 0.005\n",
            "Epoch 17 Train loss: 0.7249932373046875; Valid loss: 0.8662603881835937; Learning rate: 0.0025\n",
            "Epoch 18 Train loss: 0.7095365539550781; Valid loss: 0.8683734375; Learning rate: 0.0025\n",
            "Epoch 19 Train loss: 0.6879883499145508; Valid loss: 0.8754670288085937; Learning rate: 0.00125\n",
            "early stopping after epoch 19\n"
          ]
        }
      ]
    },
    {
      "cell_type": "code",
      "source": [
        "from matplotlib import pyplot as plt\n",
        "plt.plot(train_losses)\n"
      ],
      "metadata": {
        "colab": {
          "base_uri": "https://localhost:8080/",
          "height": 283
        },
        "id": "drhJ_FmWaqir",
        "outputId": "8ea3d34e-33e4-4596-fd04-6a4868adca33"
      },
      "execution_count": 78,
      "outputs": [
        {
          "output_type": "execute_result",
          "data": {
            "text/plain": [
              "[<matplotlib.lines.Line2D at 0x7f14481a7e50>]"
            ]
          },
          "metadata": {},
          "execution_count": 78
        },
        {
          "output_type": "display_data",
          "data": {
            "text/plain": [
              "<Figure size 432x288 with 1 Axes>"
            ],
            "image/png": "[encoded data removed]"
          },
          "metadata": {
            "needs_background": "light"
          }
        }
      ]
    },
    {
      "cell_type": "code",
      "source": [
        "plt.plot(valid_losses)"
      ],
      "metadata": {
        "colab": {
          "base_uri": "https://localhost:8080/",
          "height": 283
        },
        "id": "dpeRtZEFa6fF",
        "outputId": "caf43c67-7a08-4e9e-d89a-4d296b2c1838"
      },
      "execution_count": 79,
      "outputs": [
        {
          "output_type": "execute_result",
          "data": {
            "text/plain": [
              "[<matplotlib.lines.Line2D at 0x7f14482eba90>]"
            ]
          },
          "metadata": {},
          "execution_count": 79
        },
        {
          "output_type": "display_data",
          "data": {
            "text/plain": [
              "<Figure size 432x288 with 1 Axes>"
            ],
            "image/png": "[encoded data removed]"
          },
          "metadata": {
            "needs_background": "light"
          }
        }
      ]
    }
  ]
}