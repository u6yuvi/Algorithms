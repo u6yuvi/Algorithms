{
 "cells": [
  {
   "cell_type": "code",
   "execution_count": 2,
   "metadata": {},
   "outputs": [],
   "source": [
    "import numpy as np"
   ]
  },
  {
   "cell_type": "markdown",
   "metadata": {},
   "source": [
    "Design Analysis of Algorithms"
   ]
  },
  {
   "cell_type": "markdown",
   "metadata": {},
   "source": [
    "## Canonical divide-and-conquer algorithm\n",
    "\n",
    "The “divide-and-conquer” algorithm design paradigm is a general approach to solving problems.The basic\n",
    "idea is to break your problem into smaller subproblems, solve the subproblems recursively, and finally combine the solutions to the subproblems into one for the original problem.\n",
    "\n",
    "MergeSort is an ideal introduction to the divide-and-conquer paradigm. \n",
    "The MergeSort algorithm is a “divide-and-\n",
    "conquer” algorithm that splits the input array into two halves, recursively sorts each half, and\n",
    "combines the results using the Merge subrou-\n",
    "tine.Lets jump into Merge sort to find more details"
   ]
  },
  {
   "cell_type": "code",
   "execution_count": 6,
   "metadata": {},
   "outputs": [],
   "source": [
    "arr = np.array([5,4,1,8,7,2,6,3]) #Distinct elements"
   ]
  },
  {
   "cell_type": "markdown",
   "metadata": {},
   "source": [
    "![](images/recursion.png)"
   ]
  },
  {
   "cell_type": "markdown",
   "metadata": {},
   "source": [
    "Steps Involved:\n",
    "1. The first recursive call correctly sorts the first half, returning the array {1, 4, 5, 8}.\n",
    "2. The second recursive call returns the array {2, 3, 6, 7}.\n",
    "3. The final “merge” step combines these two sorted arrays of length 4 into a single sorted array of all 8 numbers."
   ]
  },
  {
   "cell_type": "markdown",
   "metadata": {},
   "source": [
    "Lets first look at the final \"merge\" step \n",
    "\n",
    "Implementing Merge Subroutines\n",
    "![](images/merge_subroutine.png)"
   ]
  },
  {
   "cell_type": "markdown",
   "metadata": {},
   "source": [
    "Can you find out the running Time of Merge Sort as a function ofthe length n of the input array?\n",
    "\n",
    "By Running time, we mean the number of lines of code executed in a concrete implementation of the algorithm\n",
    "\n",
    "1. First, lines 1 and 2 each perform a initialization,and we’ll count this as two operations.\n",
    "2. Then, we have a for loop that executes a total of times. Each iteration of the loop performs a comparison in line 4, an assignment in either line 5 or line 8, and an increment in either line 6 or line 9. The loop index k also needs  to get incremented each loop iteration. This means that 4 primitive\n",
    "operations are performed for each of the  iterations of the loop.\n",
    "\n",
    "3. Totaling up, we conclude that the Merge subroutine performs at most 4n + 2 operations to merge two sorted arrays of length n each.Let us take , 6n as a valid upper bound on the number of operations performed by the\n",
    "Merge subroutine.\n",
    "\n"
   ]
  },
  {
   "cell_type": "markdown",
   "metadata": {},
   "source": [
    "Lets look at the recursive step now\n",
    "\n",
    "![](images/recursive_tree.png)\n",
    "1. Since each invocation of MergeSort spawns\n",
    "two recursive calls, the tree will be binary (that is, with two children\n",
    "per node). \n",
    "2. Level 1 of the tree has two nodes, corresponding to the\n",
    "two recursive calls made by the outermost call, one for the left half\n",
    "of the input array and one for the right half. \n",
    "3. Each of the level-1\n",
    "recursive calls will itself make two recursive calls, each operating on a\n",
    "particular quarter of the original input array. \n",
    "4. This process continues\n",
    "until eventually the recursion bottoms out with arrays of size 0 or 1\n",
    "(the base cases)"
   ]
  },
  {
   "cell_type": "markdown",
   "metadata": {},
   "source": [
    "So can we Roughly estimate how many levels does this recursion tree have, as a function of the length n of the input array? \n",
    "\n",
    "The recursion tree has log 2 n + 1 levels (levels 0 through log 2 n, inclusive)T\n",
    "\n",
    "Lets dig further into the math at each level of the recursive tree.\n",
    "\n",
    "\n",
    "At a recursion level j, we need to find the following:\n",
    "\n",
    "1. The number of distinct subproblems at a given recursion level j\n",
    "2. Length of the input to each of these subproblems\n",
    "\n",
    "\n",
    "At each level j = 0, 1, 2, . . . of the recursion tree, there are 2^j distinct\n",
    "subproblems , each operating on a subarray of length n/2^j\n",
    "\n",
    "\n",
    "copy from the book"
   ]
  },
  {
   "cell_type": "markdown",
   "metadata": {},
   "source": [
    "NOw lets try to create a framework for analysing the design of an algorithm"
   ]
  },
  {
   "cell_type": "markdown",
   "metadata": {},
   "source": [
    " Algorithms can be understood and studied in a language and machine-independent manner.This\n",
    "means we need techniques that let us compare the efficiency of algorithms with-\n",
    "out implementing them. Our two most important tools are \n",
    "1. the RAM model of computation and \n",
    "2. the asymptotic analysis of computational complexity."
   ]
  },
  {
   "cell_type": "markdown",
   "metadata": {},
   "source": [
    "Machine-independent algorithm design depends upon a hypothetical computer\n",
    "called the Random Access Machine, or RAM. Under this model of computation,\n",
    "we are confronted with a computer where:\n",
    "1. Each simple operation (+, *, –, =, if, call) takes exactly one time step.\n",
    "2. Loops and subroutines are not considered simple operations. Instead,\n",
    "they are the composition of many single-step operations. It makes no\n",
    "sense for sort to be a single-step operation, since sorting 1,000,000 items\n",
    "will certainly take much longer than sorting ten items. The time it takes\n",
    "to run through a loop or execute a subprogram depends upon the number\n",
    "of loop iterations or the specific nature of the subprogram.\n",
    "3. Each memory access takes exactly one time step. Furthermore, we have\n",
    "as much memory as we need. The RAM model takes no notice of whether\n",
    "an item is in cache or on the disk.\n",
    "Under the RAM model, we measure run time by counting the number of\n",
    "steps an algorithm takes on a given problem instance. If we assume that our\n",
    "\n",
    "RAM executes a given number of steps per second, this operation count converts\n",
    "naturally to the actual running time."
   ]
  },
  {
   "cell_type": "markdown",
   "metadata": {},
   "source": [
    "Three guiding principles for the analysis of algo-\n",
    "rithms are: (i) worst-case analysis, to promote\n",
    "general-purpose algorithms that work well with\n",
    "no assumptions about the input; (ii) big-picture\n",
    "analysis - RAM Model of computation, which balances predictive power with\n",
    "mathematical tractability by ignoring constant\n",
    "factors and lower-order terms; and (iii) asymp-\n",
    "totic analysis, which is a bias toward large in-\n",
    "puts, which are the inputs that require algorith-\n",
    "mic ingenuity"
   ]
  },
  {
   "cell_type": "markdown",
   "metadata": {},
   "source": [
    "## Big Oh Notation"
   ]
  },
  {
   "cell_type": "markdown",
   "metadata": {},
   "source": [
    "It proves to be much easier to talk in terms of simple upper and lower bounds\n",
    "of time-complexity functions using the Big Oh notation. The Big Oh simplifies\n",
    "our analysis by ignoring levels of detail that do not impact our comparison of\n",
    "algorithms.\n",
    "The Big Oh notation ignores the difference between multiplicative constants.\n",
    "The functions f (n) = 2n and g(n) = n are identical in Big Oh analysis. This\n",
    "makes sense given our application. Suppose a given algorithm in (say) C lan-\n",
    "guage ran twice as fast as one with the same algorithm written in Java. This\n",
    "multiplicative factor of two can tell us nothing about the algorithm itself, be-\n",
    "cause both programs implement exactly the same algorithm. We should ignore\n",
    "such constant factors when comparing two algorithms"
   ]
  },
  {
   "cell_type": "code",
   "execution_count": null,
   "metadata": {},
   "outputs": [],
   "source": []
  },
  {
   "cell_type": "markdown",
   "metadata": {},
   "source": [
    "![](images/runningtime.png)\n",
    "\n",
    "Running times of common functions measured in nanoseconds.The function lg n denotes the base-2 logarithm of n."
   ]
  },
  {
   "cell_type": "markdown",
   "metadata": {},
   "source": [
    "# Time Complexity of ML-Models\n",
    "\n",
    "Assuming training data has n points with d dimension"
   ]
  },
  {
   "cell_type": "markdown",
   "metadata": {},
   "source": [
    "# Let the number of samples be n and number of features be d"
   ]
  },
  {
   "cell_type": "markdown",
   "metadata": {},
   "source": [
    "## K-Nearest Neighbour\n",
    "\n",
    "1. Given query point(xq),For each xi in the training set, compute distance for x(i) and x(q)\n",
    "2. Computing distance for one point takes o(d) time, as we are computing for each xi in training it takes o(nd)\n",
    "3. Then store the smallest k distances in a list and the Majority vote to K points, which took o(1).\n",
    "4. As we need whole train data during run time, Space complexity will be o(nd) finally for KNN\n",
    "\n",
    "No train time complexity\n",
    "Run Time complexity = O(nd)"
   ]
  },
  {
   "cell_type": "markdown",
   "metadata": {},
   "source": [
    "## Naive Bayes\n",
    "c- Number of classes\n",
    "Train Time Complexity - O(ndc)\n",
    "Run time complexity - O(dc)"
   ]
  },
  {
   "cell_type": "markdown",
   "metadata": {},
   "source": [
    "## Logistic\n",
    "Train Time - O(nd)\n",
    "Run time - O(d)"
   ]
  },
  {
   "cell_type": "markdown",
   "metadata": {},
   "source": [
    "## Decision Tree\n",
    "\n",
    "Train Time O(ndlogn)\n",
    "\n",
    "Space Complexity - O(p) - Number of nodes in tree\n",
    "\n",
    "Run time O(k) - depth of tree"
   ]
  },
  {
   "cell_type": "markdown",
   "metadata": {},
   "source": [
    "## Random Forest\n",
    " \n",
    "m - no of trees\n",
    "Train Time O(mndlogn)\n",
    "\n",
    "Space Complexity - O(pm) - Number of nodes in tree\n",
    "\n",
    "Run time O(km) - depth of tree"
   ]
  },
  {
   "cell_type": "markdown",
   "metadata": {},
   "source": [
    "## Gradient Boosted Trees\n",
    "\n",
    "m - no of trees\n",
    "Train Time O(mndlogn)\n",
    "\n",
    "Space Complexity - O(pm) - Number of nodes in tree\n",
    "\n",
    "Run time O(km) - depth of tree"
   ]
  },
  {
   "cell_type": "markdown",
   "metadata": {},
   "source": [
    "## SVM\n",
    "\n",
    "Train Time O(n^2)\n",
    "\n",
    "Space Complexity - O(s) - Number of support vectors\n",
    "Run time O(sd) - depth of tree"
   ]
  },
  {
   "cell_type": "markdown",
   "metadata": {},
   "source": [
    "[ML-Models Time Complexity](https://pub.towardsai.net/time-and-space-complexity-of-machine-learning-models-df9b704e3e9c)"
   ]
  },
  {
   "cell_type": "markdown",
   "metadata": {},
   "source": [
    "# Recursion\n",
    "\n",
    "Recursion is where a function calls itself.When you write a recursive function, you have to tell it when to stop recursing. That's why every recursive function has two parts: the base case, and the recursive case. The recursive case is when the function calls itself. The base case is when the function doesn't call itself again, so it doesn't go into an infinite loop"
   ]
  },
  {
   "cell_type": "markdown",
   "metadata": {},
   "source": [
    "## Countdown function"
   ]
  },
  {
   "cell_type": "code",
   "execution_count": 5,
   "metadata": {},
   "outputs": [],
   "source": [
    "def countdown(i):\n",
    "    print(i)\n",
    "    if i <= 0:\n",
    "        return\n",
    "#    else:\n",
    "    countdown(i-1)"
   ]
  },
  {
   "cell_type": "code",
   "execution_count": 7,
   "metadata": {},
   "outputs": [
    {
     "name": "stdout",
     "output_type": "stream",
     "text": [
      "10\n",
      "9\n",
      "8\n",
      "7\n",
      "6\n",
      "5\n",
      "4\n",
      "3\n",
      "2\n",
      "1\n",
      "0\n"
     ]
    }
   ],
   "source": [
    "countdown(10)"
   ]
  },
  {
   "cell_type": "markdown",
   "metadata": {},
   "source": [
    "## Array-items-count-with-recursion"
   ]
  },
  {
   "cell_type": "code",
   "execution_count": 30,
   "metadata": {},
   "outputs": [],
   "source": [
    "def array_count(lst):\n",
    "    print('List',lst)\n",
    "    if lst == []:\n",
    "        return 0  # base case\n",
    "    return 1 + array_count(lst[1:]) #recursion case"
   ]
  },
  {
   "cell_type": "code",
   "execution_count": 31,
   "metadata": {},
   "outputs": [
    {
     "name": "stdout",
     "output_type": "stream",
     "text": [
      "List [1, 2, 3, 4]\n",
      "List [2, 3, 4]\n",
      "List [3, 4]\n",
      "List [4]\n",
      "List []\n"
     ]
    },
    {
     "data": {
      "text/plain": [
       "4"
      ]
     },
     "execution_count": 31,
     "metadata": {},
     "output_type": "execute_result"
    }
   ],
   "source": [
    "array_count([1,2,3,4])"
   ]
  },
  {
   "cell_type": "markdown",
   "metadata": {},
   "source": [
    "## Array-items-sum-with-recursion"
   ]
  },
  {
   "cell_type": "code",
   "execution_count": 29,
   "metadata": {},
   "outputs": [],
   "source": [
    "def array_sum(lst):\n",
    "    print('Split',lst)\n",
    "    if lst == []:\n",
    "        return 0\n",
    "    return lst[0] + array_sum(lst[1:])"
   ]
  },
  {
   "cell_type": "code",
   "execution_count": 28,
   "metadata": {},
   "outputs": [
    {
     "name": "stdout",
     "output_type": "stream",
     "text": [
      "Split [1, 2, 3, 4]\n",
      "1\n",
      "Split [2, 3, 4]\n",
      "2\n",
      "Split [3, 4]\n",
      "3\n",
      "Split [4]\n",
      "4\n",
      "Split []\n"
     ]
    },
    {
     "data": {
      "text/plain": [
       "10"
      ]
     },
     "execution_count": 28,
     "metadata": {},
     "output_type": "execute_result"
    }
   ],
   "source": [
    "array_sum([1,2,3,4])"
   ]
  },
  {
   "cell_type": "markdown",
   "metadata": {},
   "source": [
    "## Factorial"
   ]
  },
  {
   "cell_type": "code",
   "execution_count": 37,
   "metadata": {},
   "outputs": [],
   "source": [
    "def fact(n):\n",
    "    print('N',n)\n",
    "    if n==0:\n",
    "        return 1\n",
    "    else:\n",
    "        return n * fact(n-1)"
   ]
  },
  {
   "cell_type": "code",
   "execution_count": 38,
   "metadata": {},
   "outputs": [
    {
     "name": "stdout",
     "output_type": "stream",
     "text": [
      "N 4\n",
      "N 3\n",
      "N 2\n",
      "N 1\n",
      "N 0\n"
     ]
    },
    {
     "data": {
      "text/plain": [
       "24"
      ]
     },
     "execution_count": 38,
     "metadata": {},
     "output_type": "execute_result"
    }
   ],
   "source": [
    "fact(4)"
   ]
  },
  {
   "cell_type": "markdown",
   "metadata": {},
   "source": [
    "## Fibonnaci "
   ]
  },
  {
   "cell_type": "code",
   "execution_count": 58,
   "metadata": {},
   "outputs": [],
   "source": [
    "def fibo(n):\n",
    "    print('N',n)\n",
    "    if n>=3:\n",
    "        return fibo(n-2) + fibo(n-1)\n",
    "    else:\n",
    "        return 1"
   ]
  },
  {
   "cell_type": "code",
   "execution_count": 59,
   "metadata": {},
   "outputs": [
    {
     "name": "stdout",
     "output_type": "stream",
     "text": [
      "N 5\n",
      "N 3\n",
      "N 1\n",
      "N 2\n",
      "N 4\n",
      "N 2\n",
      "N 3\n",
      "N 1\n",
      "N 2\n"
     ]
    },
    {
     "data": {
      "text/plain": [
       "5"
      ]
     },
     "execution_count": 59,
     "metadata": {},
     "output_type": "execute_result"
    }
   ],
   "source": [
    "fibo(5)"
   ]
  },
  {
   "cell_type": "markdown",
   "metadata": {},
   "source": [
    "## Merge Sort"
   ]
  },
  {
   "cell_type": "code",
   "execution_count": 20,
   "metadata": {},
   "outputs": [],
   "source": [
    "def mergeSort(alist):\n",
    "    print(\"Splitting \",alist)\n",
    "    if len(alist)>1:\n",
    "        mid = len(alist)//2\n",
    "        lefthalf = alist[:mid]\n",
    "        righthalf = alist[mid:]\n",
    "\n",
    "        mergeSort(lefthalf)\n",
    "        mergeSort(righthalf)\n",
    "\n",
    "        i=0\n",
    "        j=0\n",
    "        k=0\n",
    "        while i < len(lefthalf) and j < len(righthalf):\n",
    "            if lefthalf[i] < righthalf[j]:\n",
    "                alist[k]=lefthalf[i]\n",
    "                i=i+1\n",
    "            else:\n",
    "                alist[k]=righthalf[j]\n",
    "                j=j+1\n",
    "            k=k+1\n",
    "\n",
    "        while i < len(lefthalf):\n",
    "            alist[k]=lefthalf[i]\n",
    "            i=i+1\n",
    "            k=k+1\n",
    "\n",
    "        while j < len(righthalf):\n",
    "            alist[k]=righthalf[j]\n",
    "            j=j+1\n",
    "            k=k+1\n",
    "    print(\"Merging \",alist)\n"
   ]
  },
  {
   "cell_type": "code",
   "execution_count": 21,
   "metadata": {},
   "outputs": [
    {
     "name": "stdout",
     "output_type": "stream",
     "text": [
      "Splitting  [54, 26, 93, 17, 77, 31, 44, 55, 20]\n",
      "Splitting  [54, 26, 93, 17]\n",
      "Splitting  [54, 26]\n",
      "Splitting  [54]\n",
      "Merging  [54]\n",
      "Splitting  [26]\n",
      "Merging  [26]\n",
      "Merging  [26, 54]\n",
      "Splitting  [93, 17]\n",
      "Splitting  [93]\n",
      "Merging  [93]\n",
      "Splitting  [17]\n",
      "Merging  [17]\n",
      "Merging  [17, 93]\n",
      "Merging  [17, 26, 54, 93]\n",
      "Splitting  [77, 31, 44, 55, 20]\n",
      "Splitting  [77, 31]\n",
      "Splitting  [77]\n",
      "Merging  [77]\n",
      "Splitting  [31]\n",
      "Merging  [31]\n",
      "Merging  [31, 77]\n",
      "Splitting  [44, 55, 20]\n",
      "Splitting  [44]\n",
      "Merging  [44]\n",
      "Splitting  [55, 20]\n",
      "Splitting  [55]\n",
      "Merging  [55]\n",
      "Splitting  [20]\n",
      "Merging  [20]\n",
      "Merging  [20, 55]\n",
      "Merging  [20, 44, 55]\n",
      "Merging  [20, 31, 44, 55, 77]\n",
      "Merging  [17, 20, 26, 31, 44, 54, 55, 77, 93]\n",
      "[17, 20, 26, 31, 44, 54, 55, 77, 93]\n"
     ]
    }
   ],
   "source": [
    "alist = [54,26,93,17,77,31,44,55,20]\n",
    "mergeSort(alist)\n",
    "print(alist)"
   ]
  },
  {
   "cell_type": "markdown",
   "metadata": {},
   "source": [
    "# Divide and Conquer Algorithms"
   ]
  },
  {
   "cell_type": "markdown",
   "metadata": {},
   "source": [
    "1. Divide the input into smaller subproblems\n",
    "2. Conquer the subproblems recursively\n",
    "3. Combine the solutions for the subproblems into a solution for the original problem"
   ]
  },
  {
   "cell_type": "markdown",
   "metadata": {},
   "source": [
    "## Counting Number of Inversions in an array O(nlogn)\n",
    "\n",
    "Application\n",
    "\n",
    "1. Collaborative Filtering - compute a numerical similarity measure that quantifies how close two ranked lists are to each other.The more inversions the array has, the more different two arrays are.\n",
    "\n",
    "1. Largest-possible number of inversions in a n-element array : n(n-1)/2"
   ]
  },
  {
   "cell_type": "markdown",
   "metadata": {},
   "source": [
    "## Strassen’s Matrix Multiplication Algorithm\n",
    "\n",
    "1. Defintion of Matric Multiplication - Suppose X and Y are nxn matrices of integers—n^2 entries in each.In the product Z = X · Y, the entry z ij in the ith row and jth column of Z is defined as the dot product of the ith row of X and the jth column of Y\n",
    "2. In straightforward Matrix Multiplication the running time of matric multiplication would be cubic.Refer the image for the pesudo logic."
   ]
  },
  {
   "cell_type": "markdown",
   "metadata": {},
   "source": [
    "![](images/Strassen's_Matrix_pseudo.png)"
   ]
  },
  {
   "cell_type": "markdown",
   "metadata": {},
   "source": [
    "### Approaching it with Divide and Conquer Paradigm\n",
    "\n",
    "Think about - How to divide the input into smaller subproblems and how to combine the solutions of these subproblems into a solution for the original problem.\n",
    "\n",
    "Steps:\n",
    "1. Divide a square matrix into smaller square submatrices is to slice it in half, both vertically\n",
    "and horizontally.\n",
    "2. We will hav eight subroutines which will do recursive calls where each subroutine works on the input of half the dimension.\n",
    "3. Adding the matrix element wise which will take 0(n^2).\n",
    "4. Overall the running time of the algorithm comes to be cubic which is same as the straightforward algorithm.\n",
    "\n",
    "![](images/DMatric_mul_divide.png)"
   ]
  },
  {
   "cell_type": "markdown",
   "metadata": {},
   "source": [
    "### Stressen's Algorithm\n",
    "\n",
    "1. Instead of 8 recursive calls, it makes 7 recursive calls and everything else remains the same.\n",
    "2. It doesn’t merely reduce the running time of the algorithm by 12.5%. The recursive\n",
    "call is saved over and over again, so the savings are compounded and makes the reunning time to be subcubic."
   ]
  },
  {
   "cell_type": "markdown",
   "metadata": {},
   "source": [
    "## Closest Pair"
   ]
  },
  {
   "cell_type": "markdown",
   "metadata": {},
   "source": [
    "# The Master Method"
   ]
  },
  {
   "cell_type": "markdown",
   "metadata": {},
   "source": [
    "# References\n",
    "\n",
    "1. https://github.com/msdundar/notes-algorithms/blob/master/05-recursion/array-items-sum-with-recursion.py\n",
    "2. https://github.com/ChaituVR/Algorithms_Example\n",
    "3. [Big O-Notation MIT](http://web.mit.edu/16.070/www/lecture/big_o.pdf)\n",
    "4. [A Gentle Introduction to Algorithm Complexity Analysis](http://discrete.gr/complexity/)\n",
    "5. [Big O- Cheatsheet](https://www.bigocheatsheet.com/)"
   ]
  }
 ],
 "metadata": {
  "kernelspec": {
   "display_name": "Python 3",
   "language": "python",
   "name": "python3"
  },
  "language_info": {
   "codemirror_mode": {
    "name": "ipython",
    "version": 3
   },
   "file_extension": ".py",
   "mimetype": "text/x-python",
   "name": "python",
   "nbconvert_exporter": "python",
   "pygments_lexer": "ipython3",
   "version": "3.6.9"
  },
  "toc": {
   "base_numbering": 1,
   "nav_menu": {},
   "number_sections": true,
   "sideBar": true,
   "skip_h1_title": false,
   "title_cell": "Table of Contents",
   "title_sidebar": "Contents",
   "toc_cell": false,
   "toc_position": {},
   "toc_section_display": true,
   "toc_window_display": true
  }
 },
 "nbformat": 4,
 "nbformat_minor": 4
}
