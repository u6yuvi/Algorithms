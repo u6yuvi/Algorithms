{
 "cells": [
  {
   "cell_type": "markdown",
   "id": "4b9afd2f-097f-48d3-9eef-4d2ba0089d2d",
   "metadata": {},
   "source": [
    "# Numpy Implementation "
   ]
  },
  {
   "cell_type": "code",
   "execution_count": 53,
   "id": "578b68f2-8ec7-4e9b-8c5f-dc3399cddfe8",
   "metadata": {},
   "outputs": [
    {
     "name": "stdout",
     "output_type": "stream",
     "text": [
      "Shape of Input([No,of observations,Number of features]): (4, 3)\n",
      "Shape of Target Output ([No,of observations,Number of neuron in output layer]):(4, 1)\n",
      "Shape of Weight Matrix for Input([No,of input features,Number of output features]): (3, 1)\n"
     ]
    }
   ],
   "source": [
    "import numpy as np\n",
    "\n",
    " \n",
    "# sigmoid function\n",
    "\n",
    "def nonlin(x,deriv=False):\n",
    "\n",
    "    if(deriv==True):\n",
    "\n",
    "        return x*(1-x)\n",
    "\n",
    "    return 1/(1+np.exp(-x))\n",
    "\n",
    " \n",
    "\n",
    "# input dataset\n",
    "\n",
    "X = np.array([ [0,0,1],[0,1,1],[1,0,1],[1,1,1] ])\n",
    "print(f'Shape of Input([No,of observations,Number of features]): {X.shape}')\n",
    "# output dataset           \n",
    "y = np.array([[0,0,1,1]]).T\n",
    "print(f'Shape of Target Output ([No,of observations,Number of neuron in output layer]):{y.shape}')\n",
    " \n",
    "# seed random numbers to make calculation\n",
    "# deterministic (just a good practice)\n",
    "np.random.seed(1)\n",
    " \n",
    "# initialize weights randomly \n",
    "syn0 = np.random.random((3,1))\n",
    "print(f'Shape of Weight Matrix for Input([No,of input features,Number of output features]): {syn0.shape}')"
   ]
  },
  {
   "cell_type": "code",
   "execution_count": 30,
   "id": "ee18cb7a-c48a-4532-9bc9-b8724173a229",
   "metadata": {},
   "outputs": [
    {
     "name": "stdout",
     "output_type": "stream",
     "text": [
      "Output After Training:\n",
      "[[0.06867521]\n",
      " [0.05555872]\n",
      " [0.95508347]\n",
      " [0.94433134]]\n",
      "Actual Output:\n",
      " [[0]\n",
      " [0]\n",
      " [1]\n",
      " [1]]\n"
     ]
    }
   ],
   "source": [
    "for i in np.arange(5):\n",
    "\n",
    "    # forward propagation\n",
    "    l0 = X\n",
    "\n",
    "    l1 = nonlin(np.dot(l0,syn0))\n",
    "    #print(f'Output after {i+1} iteration(l1): {l1.shape}')\n",
    "    # how much did we miss?\n",
    "\n",
    "    l1_error = y - l1\n",
    "    #print(f'Error in each record(l1_error): {l1_error}')\n",
    "\n",
    "    # multiply how much we missed by the\n",
    "\n",
    "    # slope of the sigmoid at the values in l1\n",
    "    #print(f'Derivate after {i+1} iteration: {nonlin(l1,True)}')\n",
    "    l1_delta = l1_error * nonlin(l1,True)\n",
    "    #print(f'Nudge factor to each record(l1_delta): {l1_delta}')\n",
    "\n",
    "    # update weights\n",
    "    #print(l0.T.shape , l1_delta.shape)\n",
    "    syn0 += np.dot(l0.T,l1_delta)\n",
    "    #print(f'Weights after {i+1} iterations(syn0) :{syn0}')\n",
    "\n",
    "print(\"Output After Training:\")\n",
    "\n",
    "print(l1)\n",
    "\n",
    "print(f'Actual Output:\\n {y}')"
   ]
  },
  {
   "cell_type": "code",
   "execution_count": null,
   "id": "2f8194dc-c33f-4893-82bd-73d354c37811",
   "metadata": {},
   "outputs": [],
   "source": [
    "# 3 features,4 record\n",
    "# 1 output layer\n"
   ]
  },
  {
   "cell_type": "code",
   "execution_count": 56,
   "id": "a97891f4-f566-4b66-8a99-0443e3d1ed45",
   "metadata": {},
   "outputs": [
    {
     "data": {
      "text/plain": [
       "((4, 3), (4, 1), (3, 1))"
      ]
     },
     "execution_count": 56,
     "metadata": {},
     "output_type": "execute_result"
    }
   ],
   "source": [
    "x = np.array([[0,0,1],[0,1,1],[1,0,1],[1,1,1]])\n",
    "y = np.array([[0,0,1,1]]).T\n",
    "w = np.random.random((3,1))\n",
    "b = np.random.random(1)\n",
    "x.shape,y.shape,w.shape"
   ]
  },
  {
   "cell_type": "code",
   "execution_count": 63,
   "id": "96e96612-55df-491c-a5ff-4e0429514ad3",
   "metadata": {},
   "outputs": [
    {
     "name": "stdout",
     "output_type": "stream",
     "text": [
      "[[0.09651716]\n",
      " [0.07670287]\n",
      " [0.93844915]\n",
      " [0.92221928]]\n",
      "[[0]\n",
      " [0]\n",
      " [1]\n",
      " [1]]\n"
     ]
    }
   ],
   "source": [
    "epochs = 100\n",
    "for i in range(epochs):\n",
    "    h1 = np.dot(x,w)\n",
    "    output = nonlin(h1)\n",
    "    #print(output.shape)\n",
    "    loss = y - output\n",
    "    \n",
    "    loss_delta = loss * nonlin(output,deriv=True)\n",
    "    #print(loss_delta.shape)\n",
    "    w+= np.dot(x.T,loss_delta)\n",
    "\n",
    "print(output)\n",
    "print(y)"
   ]
  },
  {
   "cell_type": "markdown",
   "id": "66526f81-5eef-48ad-9dc6-9d8785917e76",
   "metadata": {},
   "source": [
    "import torch"
   ]
  },
  {
   "cell_type": "code",
   "execution_count": null,
   "id": "2337ac17-fefe-42be-9d0f-df7c18f24a41",
   "metadata": {},
   "outputs": [],
   "source": [
    "#Input - [Number of examples, Number of features]\n",
    "#Hidden Layer  = [Input ,Output]\n"
   ]
  },
  {
   "cell_type": "raw",
   "id": "e6ac3bec-4d81-4f7d-8b2d-9505e2772c89",
   "metadata": {},
   "source": [
    "#We will create a tensor with shape (1, 5), one row and five columns, that contains values randomly distributed according to the normal distribution with a mean of zero and standard deviation of one."
   ]
  },
  {
   "cell_type": "markdown",
   "id": "34794828-8bfb-4f08-a8cb-c37ccbf86c5f",
   "metadata": {},
   "source": []
  },
  {
   "cell_type": "code",
   "execution_count": 10,
   "id": "f6549e45-cdfe-4406-8478-855f547220c2",
   "metadata": {},
   "outputs": [
    {
     "name": "stdout",
     "output_type": "stream",
     "text": [
      "Number of Inpout features:3\n"
     ]
    }
   ],
   "source": [
    "features = torch.randn(1,3)\n",
    "print(f'Number of Inpout features:{features.shape[1]}')\n"
   ]
  },
  {
   "cell_type": "code",
   "execution_count": 5,
   "id": "3840d46f-228e-4a3d-bdb6-bbc9b684546b",
   "metadata": {},
   "outputs": [],
   "source": [
    "n_inputs = features.shape[1]\n",
    "n_hidden = 2\n",
    "n_output = 1\n",
    "w1 = torch.randn(n_inputs,n_hidden)\n",
    "b1 = torch.randn(n_hidden)\n",
    "w2 = torch.randn(n_hidden,n_output)\n",
    "b2 = torch.randn(n_output)"
   ]
  },
  {
   "cell_type": "code",
   "execution_count": 7,
   "id": "a7df4cd3-65c1-4ee5-96e1-7d561b169dcb",
   "metadata": {},
   "outputs": [],
   "source": [
    "def sigmoid(x):\n",
    "    return 1/1+ torch.exp(-x)"
   ]
  },
  {
   "cell_type": "code",
   "execution_count": 16,
   "id": "4161b9b8-0efe-48ca-85cc-966bf780bc12",
   "metadata": {},
   "outputs": [
    {
     "name": "stdout",
     "output_type": "stream",
     "text": [
      "Hidden Layer activation tensor([[1.2181, 1.0290]])\n",
      "Output tensor([[1.0995]])\n"
     ]
    }
   ],
   "source": [
    "h1 = sigmoid(torch.matmul(features,w1)+b1)\n",
    "print(f'Hidden Layer activation {h1}')\n",
    "out = sigmoid(torch.matmul(h1,w2)+b2)\n",
    "print(f'Output {out}')"
   ]
  },
  {
   "cell_type": "code",
   "execution_count": 18,
   "id": "6fcd02b3-8bf3-4105-94b5-58d6cbc2db2a",
   "metadata": {},
   "outputs": [
    {
     "ename": "TypeError",
     "evalue": "'NoneType' object is not callable",
     "output_type": "error",
     "traceback": [
      "\u001b[0;31m---------------------------------------------------------------------------\u001b[0m",
      "\u001b[0;31mTypeError\u001b[0m                                 Traceback (most recent call last)",
      "Cell \u001b[0;32mIn [18], line 1\u001b[0m\n\u001b[0;32m----> 1\u001b[0m out\u001b[38;5;241m.\u001b[39mgrad()\n",
      "\u001b[0;31mTypeError\u001b[0m: 'NoneType' object is not callable"
     ]
    }
   ],
   "source": [
    "out.grad()"
   ]
  },
  {
   "cell_type": "code",
   "execution_count": null,
   "id": "4bcd5696-bdf5-477c-ba41-a1b710074e95",
   "metadata": {},
   "outputs": [],
   "source": []
  },
  {
   "cell_type": "code",
   "execution_count": null,
   "id": "d6a551af-f5e7-470b-8ff1-ad3553fdf745",
   "metadata": {},
   "outputs": [],
   "source": []
  },
  {
   "cell_type": "code",
   "execution_count": null,
   "id": "4d6c1813-d03b-4aac-9949-458d05febe10",
   "metadata": {},
   "outputs": [],
   "source": []
  },
  {
   "cell_type": "code",
   "execution_count": null,
   "id": "4584d0f3-4ef5-4291-9511-af8f0263ea41",
   "metadata": {},
   "outputs": [],
   "source": []
  }
 ],
 "metadata": {
  "kernelspec": {
   "display_name": "Python 3",
   "language": "python",
   "name": "python3"
  },
  "language_info": {
   "codemirror_mode": {
    "name": "ipython",
    "version": 3
   },
   "file_extension": ".py",
   "mimetype": "text/x-python",
   "name": "python",
   "nbconvert_exporter": "python",
   "pygments_lexer": "ipython3",
   "version": "3.9.12"
  }
 },
 "nbformat": 4,
 "nbformat_minor": 5
}
