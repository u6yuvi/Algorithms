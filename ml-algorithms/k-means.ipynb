{
 "cells": [
  {
   "cell_type": "markdown",
   "id": "a8a86537-fbd5-4c14-9b7c-822bf5a2b87c",
   "metadata": {},
   "source": [
    "# K-Means Clustering"
   ]
  },
  {
   "cell_type": "markdown",
   "id": "fed603d9-d9fb-4672-886e-f66c01182b38",
   "metadata": {},
   "source": [
    "1. Unsupervised Problem\n",
    "2. Objective Function - Minimize the sum of the euclidan distance from a point to its neighbouring clusters centroid.\n",
    "3. $\\sum_{i}^{N}\\sum_{k=i}^{K}w_{ik}||x-c_ik||$ where N - number of datapoints , K - number of clusters , $w_{ik} =0$ when $x_i$ and $c_{k}$ are not in the same cluster and  $w_{ik} =1$ when $x_i$ and $c_{k}$ are in the same cluster.\n",
    "4. Similarity Metric - Euclidean Distance"
   ]
  },
  {
   "cell_type": "code",
   "execution_count": 1,
   "id": "45c378d8-a89e-4ffa-8cea-ac25a9f08f87",
   "metadata": {},
   "outputs": [],
   "source": [
    "from sklearn.datasets import make_blobs\n",
    "import numpy as np\n",
    "import random\n",
    "X,y  = make_blobs(centers=3)"
   ]
  },
  {
   "cell_type": "raw",
   "id": "63707c47-91a9-4f79-b6bd-dc39f1eee314",
   "metadata": {},
   "source": [
    "1. Initialize centroids – This is done by randomly choosing K no of points, the points can be present in the dataset or also random points.\n",
    "2. Assign Clusters – The clusters are assigned to each point in the dataset by calculating their distance from the centroid and assigning it to the centroid with minimum distance.\n",
    "3. Re-calculate the centroids – Updating the centroid by calculating the centroid of each cluster we have created."
   ]
  },
  {
   "cell_type": "code",
   "execution_count": 2,
   "id": "29c9230e-c644-4e03-9b52-fbbc10538183",
   "metadata": {},
   "outputs": [],
   "source": [
    "n= X.shape[1]\n",
    "m = X.shape[0]\n",
    "K=3"
   ]
  },
  {
   "cell_type": "code",
   "execution_count": 54,
   "id": "073da04f-eef7-44cb-8007-57ef6a88b3a3",
   "metadata": {},
   "outputs": [
    {
     "data": {
      "text/plain": [
       "2"
      ]
     },
     "execution_count": 54,
     "metadata": {},
     "output_type": "execute_result"
    }
   ],
   "source": [
    "n"
   ]
  },
  {
   "cell_type": "code",
   "execution_count": 7,
   "id": "7cadc5b8-8f5d-4511-bfc8-7d95ef11e830",
   "metadata": {},
   "outputs": [],
   "source": [
    "# Step -1\n",
    "centroids = np.array([]).reshape(n,0)\n",
    "# creating 3 random centroids\n",
    "for k in range(K):\n",
    "    centroids=np.c_[centroids,X[random.randint(0,m-1)]]"
   ]
  },
  {
   "cell_type": "code",
   "execution_count": 8,
   "id": "b6b9f439-0428-4e1b-ad89-74e784d8e114",
   "metadata": {},
   "outputs": [],
   "source": [
    "#Step 2\n",
    "\n",
    "# creating an empty array\n",
    "euclid=np.array([]).reshape(m,0)\n",
    "\n",
    "# finding distance between for each centroid\n",
    "for k in range(K):\n",
    "       dist=np.sum((X-centroids[:,k])**2,axis=1)\n",
    "       euclid=np.c_[euclid,dist]\n",
    "\n",
    "# storing the minimum value we have computed\n",
    "minimum=np.argmin(euclid,axis=1)+1"
   ]
  },
  {
   "cell_type": "code",
   "execution_count": 5,
   "id": "4aa8e8bb-158a-4c62-a5e4-ced7af4e706a",
   "metadata": {},
   "outputs": [],
   "source": [
    "# computing the mean of separated clusters\n",
    "cent={}\n",
    "for k in range(K):\n",
    "    cent[k+1]=np.array([]).reshape(2,0)"
   ]
  },
  {
   "cell_type": "code",
   "execution_count": 6,
   "id": "dff6348b-1c39-4e03-a734-431cde8ba9c8",
   "metadata": {},
   "outputs": [],
   "source": [
    "# assigning of clusters to points\n",
    "for k in range(m):\n",
    "    cent[minimum[k]]=np.c_[cent[minimum[k]],X[k]]\n"
   ]
  },
  {
   "cell_type": "code",
   "execution_count": 7,
   "id": "970255ce-47ed-4f07-a576-53900570aeae",
   "metadata": {},
   "outputs": [],
   "source": [
    "for k in range(K):\n",
    "    cent[k+1]=cent[k+1].T\n",
    "\n",
    "# computing mean and updating it\n",
    "for k in range(K):\n",
    "     centroids[:,k]=np.mean(cent[k+1],axis=0)"
   ]
  },
  {
   "cell_type": "code",
   "execution_count": 8,
   "id": "be08ae80-702b-41b5-8dd4-386c21aa8cea",
   "metadata": {},
   "outputs": [],
   "source": [
    "n_iter =1000\n",
    "# repeating the above steps again and again\n",
    "for i in range(n_iter):\n",
    "      euclid=np.array([]).reshape(m,0)\n",
    "      for k in range(K):\n",
    "          dist=np.sum((X-centroids[:,k])**2,axis=1)\n",
    "          euclid=np.c_[euclid,dist]\n",
    "      C=np.argmin(euclid,axis=1)+1\n",
    "      cent={}\n",
    "      for k in range(K):\n",
    "           cent[k+1]=np.array([]).reshape(2,0)\n",
    "      for k in range(m):\n",
    "           cent[C[k]]=np.c_[cent[C[k]],X[k]]\n",
    "      for k in range(K):\n",
    "           cent[k+1]=cent[k+1].T\n",
    "      for k in range(K):\n",
    "           centroids[:,k]=np.mean(cent[k+1],axis=0)\n",
    "      final=cent"
   ]
  },
  {
   "cell_type": "code",
   "execution_count": 57,
   "id": "d0edb076-1a50-4ae4-bea6-36f898980c9d",
   "metadata": {},
   "outputs": [],
   "source": [
    "import matplotlib.pyplot as plt"
   ]
  },
  {
   "cell_type": "code",
   "execution_count": 10,
   "id": "97d522ea-16a6-48ed-b822-9b44f0f3ac4e",
   "metadata": {},
   "outputs": [
    {
     "data": {
      "text/plain": [
       "<matplotlib.collections.PathCollection at 0x1335da430>"
      ]
     },
     "execution_count": 10,
     "metadata": {},
     "output_type": "execute_result"
    },
    {
     "data": {
      "image/png": "[encoded data removed]",
      "text/plain": [
       "<Figure size 432x288 with 1 Axes>"
      ]
     },
     "metadata": {
      "needs_background": "light"
     },
     "output_type": "display_data"
    }
   ],
   "source": [
    "plt.scatter(X[:,0],X[:,1],c = y)"
   ]
  },
  {
   "cell_type": "code",
   "execution_count": 11,
   "id": "7f21ec30-d186-4a61-8380-eeb314a46add",
   "metadata": {},
   "outputs": [
    {
     "data": {
      "image/png": "[encoded data removed]",
      "text/plain": [
       "<Figure size 432x288 with 1 Axes>"
      ]
     },
     "metadata": {
      "needs_background": "light"
     },
     "output_type": "display_data"
    }
   ],
   "source": [
    "for k in range(K):\n",
    "    plt.scatter(final[k+1][:,0],final[k+1][:,1])\n",
    "#plt.scatter(centroids[0,:],centroids[1,:])\n",
    "#plt.rcParams.update({'figure.figsize':(10,7.5), 'figure.dpi':100})\n",
    "plt.show()"
   ]
  },
  {
   "cell_type": "raw",
   "id": "c45162b2-b6ed-472e-9450-3cfe8654718c",
   "metadata": {},
   "source": [
    "# Practice"
   ]
  },
  {
   "cell_type": "code",
   "execution_count": 17,
   "id": "e7ce025a-93ab-424d-9edc-3a8b9569617c",
   "metadata": {},
   "outputs": [],
   "source": [
    "# select points from the dataset as centroid\n",
    "k = 3\n",
    "centroid = np.array([]).reshape(2,0)\n",
    "for i in range(k):\n",
    "    centroid = np.c_[centroid,X[random.randint(0,m-1)]]"
   ]
  },
  {
   "cell_type": "code",
   "execution_count": 18,
   "id": "b4544b87-f68d-451e-9324-94c324a3b873",
   "metadata": {},
   "outputs": [
    {
     "data": {
      "text/plain": [
       "(2, 3)"
      ]
     },
     "execution_count": 18,
     "metadata": {},
     "output_type": "execute_result"
    }
   ],
   "source": [
    "centroid.shape"
   ]
  },
  {
   "cell_type": "code",
   "execution_count": 23,
   "id": "d08567bc-9fdd-4669-aa87-175ec4eb5ed2",
   "metadata": {},
   "outputs": [],
   "source": [
    "euclid = np.array([]).reshape(m,0)\n",
    "for i in range(k):\n",
    "    dist = np.sum((X-centroid[:,i])**2,axis=1)\n",
    "    euclid = np.c_[euclid,dist]\n",
    "    \n",
    "minimum = np.argmin(euclid,axis=1)"
   ]
  },
  {
   "cell_type": "code",
   "execution_count": 34,
   "id": "9abe634d-ccfd-42e4-8211-21f25486a95c",
   "metadata": {},
   "outputs": [
    {
     "data": {
      "text/plain": [
       "3"
      ]
     },
     "execution_count": 34,
     "metadata": {},
     "output_type": "execute_result"
    }
   ],
   "source": [
    "k"
   ]
  },
  {
   "cell_type": "code",
   "execution_count": 35,
   "id": "5faf3d91-6010-4ed2-bdce-02c448e7e12a",
   "metadata": {},
   "outputs": [],
   "source": [
    "cent = {}\n",
    "for i in range(k):\n",
    "    cent[i] = np.array([]).reshape(2,0)"
   ]
  },
  {
   "cell_type": "code",
   "execution_count": 30,
   "id": "779238aa-16a3-4895-a1b4-dcf45994c4a1",
   "metadata": {},
   "outputs": [
    {
     "data": {
      "text/plain": [
       "0"
      ]
     },
     "execution_count": 30,
     "metadata": {},
     "output_type": "execute_result"
    }
   ],
   "source": [
    "minimum[0]"
   ]
  },
  {
   "cell_type": "code",
   "execution_count": 37,
   "id": "c237d9cc-5821-4d1b-9d2d-5f2a2366d988",
   "metadata": {},
   "outputs": [],
   "source": [
    "for i in range(m):\n",
    "    cent[minimum[i]] = np.c_[cent[minimum[i]],X[i]]"
   ]
  },
  {
   "cell_type": "code",
   "execution_count": 43,
   "id": "7c239db4-7d0f-46e4-b1a6-9334ca5a19a9",
   "metadata": {},
   "outputs": [],
   "source": [
    "for i in range(k):\n",
    "    centroid[:,i] = np.mean(cent[i].T,axis=0)"
   ]
  },
  {
   "cell_type": "code",
   "execution_count": 81,
   "id": "f0885a85-338e-4a3a-a516-9fee3b315af8",
   "metadata": {},
   "outputs": [],
   "source": [
    "# select points from the dataset as centroid\n",
    "k = 3\n",
    "centroid = np.array([]).reshape(2,0)\n",
    "for i in range(k):\n",
    "    centroid = np.c_[centroid,X[random.randint(0,m-1)]]\n",
    "for i in range(100):\n",
    "    euclid = np.array([]).reshape(m,0)\n",
    "    for i in range(k):\n",
    "        dist = np.sum((X-centroid[:,i])**2,axis=1)\n",
    "        euclid = np.c_[euclid,dist]\n",
    "\n",
    "    #print(np.sum(np.mean(euclid,axis=0)))\n",
    "    minimum = np.argmin(euclid,axis=1)\n",
    "    cent = {}\n",
    "    for i in range(k):\n",
    "        cent[i] = np.array([]).reshape(2,0)\n",
    "    for i in range(m):\n",
    "        cent[minimum[i]] = np.c_[cent[minimum[i]],X[i]]\n",
    "    for i in range(k):\n",
    "        cent[i] = cent[i].T\n",
    "    for i in range(k):\n",
    "        centroid[:,i] = np.mean(cent[i],axis=0)\n",
    "        "
   ]
  },
  {
   "cell_type": "code",
   "execution_count": 77,
   "id": "c3a23062-17dc-411d-b7dd-32b9e5604f07",
   "metadata": {},
   "outputs": [
    {
     "data": {
      "text/plain": [
       "(34, 2)"
      ]
     },
     "execution_count": 77,
     "metadata": {},
     "output_type": "execute_result"
    }
   ],
   "source": [
    "cent[1].shape"
   ]
  },
  {
   "cell_type": "code",
   "execution_count": 79,
   "id": "a7081e73-d94c-4b0c-9b1b-882dd9063376",
   "metadata": {},
   "outputs": [
    {
     "name": "stdout",
     "output_type": "stream",
     "text": [
      "167.95752222547912\n",
      "167.95752222547912\n",
      "167.95752222547912\n",
      "167.95752222547912\n",
      "167.95752222547912\n",
      "167.95752222547912\n",
      "167.95752222547912\n",
      "167.95752222547912\n",
      "167.95752222547912\n",
      "167.95752222547912\n"
     ]
    }
   ],
   "source": [
    "n_iter =10\n",
    "# repeating the above steps again and again\n",
    "for i in range(n_iter):\n",
    "      euclid=np.array([]).reshape(m,0)\n",
    "      for k in range(K):\n",
    "          dist=np.sum((X-centroids[:,k])**2,axis=1)\n",
    "          euclid=np.c_[euclid,dist]\n",
    "      \n",
    "      print(np.sum(np.mean(euclid,axis=0)))\n",
    "      C=np.argmin(euclid,axis=1)+1\n",
    "      cent={}\n",
    "      for k in range(K):\n",
    "           cent[k+1]=np.array([]).reshape(2,0)\n",
    "      for k in range(m):\n",
    "           cent[C[k]]=np.c_[cent[C[k]],X[k]]\n",
    "      for k in range(K):\n",
    "           cent[k+1]=cent[k+1].T\n",
    "      for k in range(K):\n",
    "           centroids[:,k]=np.mean(cent[k+1],axis=0)\n",
    "      final=cent"
   ]
  },
  {
   "cell_type": "code",
   "execution_count": 71,
   "id": "eb00dc3d-ac49-4626-a6ca-621ff57d6e3f",
   "metadata": {},
   "outputs": [
    {
     "data": {
      "text/plain": [
       "(32, 2)"
      ]
     },
     "execution_count": 71,
     "metadata": {},
     "output_type": "execute_result"
    }
   ],
   "source": [
    "final[1].shape"
   ]
  },
  {
   "cell_type": "code",
   "execution_count": 65,
   "id": "d2300c43-d481-4aa3-a31c-320528b92ba1",
   "metadata": {},
   "outputs": [
    {
     "ename": "IndexError",
     "evalue": "index 2 is out of bounds for axis 0 with size 2",
     "output_type": "error",
     "traceback": [
      "\u001b[0;31m---------------------------------------------------------------------------\u001b[0m",
      "\u001b[0;31mIndexError\u001b[0m                                Traceback (most recent call last)",
      "Cell \u001b[0;32mIn [65], line 1\u001b[0m\n\u001b[0;32m----> 1\u001b[0m cent[i][\u001b[38;5;241m2\u001b[39m]\n",
      "\u001b[0;31mIndexError\u001b[0m: index 2 is out of bounds for axis 0 with size 2"
     ]
    }
   ],
   "source": [
    "cent[i][2]"
   ]
  },
  {
   "cell_type": "code",
   "execution_count": 67,
   "id": "1f5b4c50-251d-411b-a454-3b88b659197f",
   "metadata": {},
   "outputs": [
    {
     "data": {
      "text/plain": [
       "<matplotlib.collections.PathCollection at 0x168f18d30>"
      ]
     },
     "execution_count": 67,
     "metadata": {},
     "output_type": "execute_result"
    },
    {
     "data": {
      "image/png": "[encoded data removed]",
      "text/plain": [
       "<Figure size 432x288 with 1 Axes>"
      ]
     },
     "metadata": {
      "needs_background": "light"
     },
     "output_type": "display_data"
    }
   ],
   "source": [
    "plt.scatter(X[:,0],X[:,1])"
   ]
  },
  {
   "cell_type": "code",
   "execution_count": 66,
   "id": "a8de5721-4657-44e4-a682-3a04fa419836",
   "metadata": {},
   "outputs": [
    {
     "name": "stdout",
     "output_type": "stream",
     "text": [
      "0\n",
      "1\n",
      "2\n"
     ]
    },
    {
     "data": {
      "image/png": "[encoded data removed]",
      "text/plain": [
       "<Figure size 432x288 with 1 Axes>"
      ]
     },
     "metadata": {
      "needs_background": "light"
     },
     "output_type": "display_data"
    }
   ],
   "source": [
    "for i in range(k):\n",
    "    print(i)\n",
    "    plt.scatter(cent[i][0],cent[i][1])\n",
    "    plt"
   ]
  }
 ],
 "metadata": {
  "kernelspec": {
   "display_name": "Python 3",
   "language": "python",
   "name": "python3"
  },
  "language_info": {
   "codemirror_mode": {
    "name": "ipython",
    "version": 3
   },
   "file_extension": ".py",
   "mimetype": "text/x-python",
   "name": "python",
   "nbconvert_exporter": "python",
   "pygments_lexer": "ipython3",
   "version": "3.9.12"
  }
 },
 "nbformat": 4,
 "nbformat_minor": 5
}
