{
 "cells": [
  {
   "cell_type": "code",
   "execution_count": null,
   "id": "6a8bdffe-a696-435e-a695-79cfee62c13b",
   "metadata": {},
   "outputs": [],
   "source": [
    "# k-nearest "
   ]
  },
  {
   "cell_type": "code",
   "execution_count": 2,
   "id": "bb0ba98c-c2b4-41e4-876d-b445ec51e726",
   "metadata": {},
   "outputs": [],
   "source": [
    "import numpy as np"
   ]
  },
  {
   "cell_type": "code",
   "execution_count": 7,
   "id": "e046f1b8-36f1-4520-97cd-4373dc498e78",
   "metadata": {},
   "outputs": [],
   "source": [
    "X = np.random.randn(10,2)"
   ]
  },
  {
   "cell_type": "code",
   "execution_count": 62,
   "id": "00266b01-3ace-498f-a030-f96136a14347",
   "metadata": {},
   "outputs": [
    {
     "data": {
      "text/plain": [
       "array([[-0.32626733,  0.1315251 ],\n",
       "       [-1.39414578, -0.83673716],\n",
       "       [-0.98585437,  0.06258704],\n",
       "       [ 1.89472423,  0.63143843],\n",
       "       [-1.70228757,  1.76607143],\n",
       "       [ 1.21777708,  0.87011763],\n",
       "       [ 1.52155848,  0.8124622 ],\n",
       "       [-1.65604976,  0.47872043],\n",
       "       [-1.22697064,  2.4555269 ],\n",
       "       [-1.47242029, -0.25302138]])"
      ]
     },
     "execution_count": 62,
     "metadata": {},
     "output_type": "execute_result"
    }
   ],
   "source": [
    "X"
   ]
  },
  {
   "cell_type": "code",
   "execution_count": 18,
   "id": "0c2fde7f-f4e2-482e-91f1-9cd7e095db28",
   "metadata": {},
   "outputs": [],
   "source": [
    "from math import sqrt"
   ]
  },
  {
   "cell_type": "code",
   "execution_count": 63,
   "id": "6dc5ca37-ecd6-48ce-a4e6-dcffad616a23",
   "metadata": {},
   "outputs": [],
   "source": [
    "def euclidean_distance(rows,test,k=2):\n",
    "    distances = list()\n",
    "    for row in rows:\n",
    "        distance =0\n",
    "        for col in range(len(row)):\n",
    "            distance += (row[col] - test[col])**2\n",
    "        #print(distance)\n",
    "        distances.append((row,sqrt(distance)))\n",
    "    distances = sorted(distances,key =lambda x : x[-1])\n",
    "    result = []\n",
    "    for nei in range(k):\n",
    "        result.append(distances[nei][0])\n",
    "                         \n",
    "    return result"
   ]
  },
  {
   "cell_type": "code",
   "execution_count": 60,
   "id": "e2aaf68c-82de-4703-a504-6be78d94d4a7",
   "metadata": {},
   "outputs": [],
   "source": [
    "def min_max(array):\n",
    "    col_norms = []\n",
    "    for col in range(len(array[0])):\n",
    "        col_norms.append((array[:,col] - np.mean(array[:,col]))/(np.max(array[:,col] ) - np.min(array[:,col])))\n",
    "    return col_norms\n",
    "    "
   ]
  },
  {
   "cell_type": "code",
   "execution_count": 64,
   "id": "5f6c86b1-4eff-4abf-8407-931f543fb978",
   "metadata": {},
   "outputs": [
    {
     "data": {
      "text/plain": [
       "[array([ 0.02411064, -0.27276869, -0.15926019,  0.64156526, -0.35843474,\n",
       "         0.45336818,  0.537822  , -0.34558023, -0.22629257, -0.29452967]),\n",
       " array([-0.1459008 , -0.44000305, -0.16684021,  0.00594404,  0.35058013,\n",
       "         0.07844103,  0.06092863, -0.04044288,  0.55999695, -0.26270385])]"
      ]
     },
     "execution_count": 64,
     "metadata": {},
     "output_type": "execute_result"
    }
   ],
   "source": [
    "min_max(X)"
   ]
  },
  {
   "cell_type": "code",
   "execution_count": 66,
   "id": "99f131ae-fdea-45fe-84d2-c7fe160d6d7e",
   "metadata": {},
   "outputs": [
    {
     "data": {
      "text/plain": [
       "[array([-0.32626733,  0.1315251 ]), array([-0.98585437,  0.06258704])]"
      ]
     },
     "execution_count": 66,
     "metadata": {},
     "output_type": "execute_result"
    }
   ],
   "source": [
    "euclidean_distance(X,test,2)"
   ]
  }
 ],
 "metadata": {
  "kernelspec": {
   "display_name": "Python 3",
   "language": "python",
   "name": "python3"
  },
  "language_info": {
   "codemirror_mode": {
    "name": "ipython",
    "version": 3
   },
   "file_extension": ".py",
   "mimetype": "text/x-python",
   "name": "python",
   "nbconvert_exporter": "python",
   "pygments_lexer": "ipython3",
   "version": "3.9.12"
  }
 },
 "nbformat": 4,
 "nbformat_minor": 5
}
